{
 "cells": [
  {
   "cell_type": "markdown",
   "id": "1abc4fa6-7186-470a-84f7-d4d0f39ecdc3",
   "metadata": {},
   "source": [
    "## 3.无监督学习"
   ]
  },
  {
   "cell_type": "markdown",
   "id": "d71fac16-5d46-44f1-8224-d8f9c0f9669b",
   "metadata": {},
   "source": [
    "### 3. 1PCA"
   ]
  },
  {
   "cell_type": "code",
   "execution_count": null,
   "id": "2e3d49c5-8a81-4fc2-944b-2229b59da03c",
   "metadata": {},
   "outputs": [],
   "source": []
  }
 ],
 "metadata": {
  "kernelspec": {
   "display_name": "Python 3 (ipykernel)",
   "language": "python",
   "name": "python3"
  },
  "language_info": {
   "codemirror_mode": {
    "name": "ipython",
    "version": 3
   },
   "file_extension": ".py",
   "mimetype": "text/x-python",
   "name": "python",
   "nbconvert_exporter": "python",
   "pygments_lexer": "ipython3",
   "version": "3.11.7"
  }
 },
 "nbformat": 4,
 "nbformat_minor": 5
}
