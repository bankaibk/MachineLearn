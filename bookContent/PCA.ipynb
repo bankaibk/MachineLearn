{
 "cells": [
  {
   "cell_type": "markdown",
   "id": "f85561ba-688e-4707-b27e-e9142407579b",
   "metadata": {},
   "source": [
    "主成分分析（PCA）是一种常用的数据降维技术，它通过提取数据的主要特征成分来减少数据的维度，同时尽可能保留原有数据的信息。下面，我们通过一个简单的例子来说明PCA算法的基本步骤。\n",
    "\n",
    "假设有如下三个二维数据点：\n",
    "- \\( (1, 2) \\)\n",
    "- \\( (3, 4) \\)\n",
    "- \\( (5, 6) \\)\n",
    "\n",
    "我们的目标是将这些二维数据降至一维。\n",
    "\n",
    "### 步骤 1: 数据标准化\n",
    "由于PCA对数据的尺度很敏感，所以首先要对数据进行标准化处理。标准化的目的是使得每个特征的平均值为0，标准差为1。\n",
    "\n",
    "计算每个维度的平均值和标准差：\n",
    "- 平均值 \\( \\mu_x = 3, \\mu_y = 4 \\)\n",
    "- 标准差 \\( \\sigma_x = \\sigma_y = 2 \\)\n",
    "\n",
    "标准化后的数据点：\n",
    "- \\( \\left(\\frac{1-3}{2}, \\frac{2-4}{2}\\right) = (-1, -1) \\)\n",
    "- \\( \\left(\\frac{3-3}{2}, \\frac{4-4}{2}\\right) = (0, 0) \\)\n",
    "- \\( \\left(\\frac{5-3}{2}, \\frac{6-4}{2}\\right) = (1, 1) \\)\n",
    "\n",
    "### 步骤 2: 计算协方差矩阵\n",
    "接下来，计算标准化数据的协方差矩阵。协方差矩阵展示了各变量间的协方差，即变量间如何随彼此变化。\n",
    "\n",
    "\\[\n",
    "\\text{协方差矩阵} = \\begin{bmatrix}\n",
    "1 & 1 \\\\\n",
    "1 & 1\n",
    "\\end{bmatrix}\n",
    "\\]\n",
    "\n",
    "### 步骤 3: 计算特征值和特征向量\n",
    "求解上述协方差矩阵的特征值和对应的特征向量。这些特征向量将作为新的轴，而特征值决定了轴的“重要性”即方差大小。\n",
    "\n",
    "特征值：\\(2, 0\\)\\\n",
    "特征向量：\\([1, 1], [1, -1]\\)（可能需要归一化）\n",
    "\n",
    "### 步骤 4: 选择主成分\n",
    "选择特征值最大的特征向量作为主成分。在本例中，特征向量 \\([1, 1]\\) 对应的特征值是2，是最大的，因此选取这个特征向量为主成分。\n",
    "\n",
    "### 步骤 5: 转换到新空间\n",
    "最后，将原始数据点投影到选定的主成分上。\n",
    "- 投影 \\( (-1, -1) \\)：\\( -1 \\times 1 + -1 \\times 1 = -2 \\)\n",
    "- 投影 \\( (0, 0) \\)：\\( 0 \\times 1 + 0 \\times 1 = 0 \\)\n",
    "- 投影 \\( (1, 1) \\)：\\( 1 \\times 1 + 1 \\times 1 = 2 \\)\n",
    "\n",
    "最终，降维后的数据为 \\(-2, 0, 2\\)。\n",
    "\n",
    "这个简单例子展示了PCA算法从原始数据中抽取主要特征，并将其转换为较低维度表示的过程。在实际应用中，PCA可以应用于更高维度的数据，并且通常用于图像处理、数据压缩、以及增强机器学习模型的性能等领域。"
   ]
  },
  {
   "cell_type": "code",
   "execution_count": 1,
   "id": "7fb7d7d4-0f7e-480e-983b-b7e258542acf",
   "metadata": {},
   "outputs": [
    {
     "name": "stdout",
     "output_type": "stream",
     "text": [
      "原始数据：\n",
      " [[1 2]\n",
      " [3 4]\n",
      " [5 6]]\n"
     ]
    }
   ],
   "source": [
    "import numpy as np\n",
    "\n",
    "# 原始数据\n",
    "data = np.array([[1, 2], [3, 4], [5, 6]])\n",
    "\n",
    "# 步骤 1: 数据标准化\n",
    "mean = np.mean(data, axis=0)\n",
    "std_dev = np.std(data, axis=0)\n",
    "data_normalized = (data - mean) / std_dev\n",
    "\n",
    "# 步骤 2: 计算协方差矩阵\n",
    "cov_matrix = np.cov(data_normalized, rowvar=False)\n",
    "\n",
    "# 步骤 3: 计算特征值和特征向量\n",
    "eigenvalues, eigenvectors = np.linalg.eig(cov_matrix)\n",
    "\n",
    "# 步骤 4: 选择主成分（最大特征值对应的特征向量）\n",
    "sorted_indexes = np.argsort(eigenvalues)[::-1]\n",
    "principal_components = eigenvectors[:, sorted_indexes[:1]]\n",
    "\n",
    "# 步骤 5: 转换到新空间\n",
    "transformed_data = np.dot(data_normalized, principal_components)\n",
    "\n",
    "print(\"原始数据：\\n\", data)"
   ]
  },
  {
   "cell_type": "code",
   "execution_count": 2,
   "id": "eb437825-51a8-41a1-afa2-ba5584c3d4f7",
   "metadata": {},
   "outputs": [
    {
     "name": "stdout",
     "output_type": "stream",
     "text": [
      "标准化后的数据：\n",
      " [[-1.22474487 -1.22474487]\n",
      " [ 0.          0.        ]\n",
      " [ 1.22474487  1.22474487]]\n"
     ]
    }
   ],
   "source": [
    "print(\"标准化后的数据：\\n\", data_normalized)"
   ]
  },
  {
   "cell_type": "code",
   "execution_count": 3,
   "id": "4e2c4463-65ed-416b-872b-75506f634b56",
   "metadata": {},
   "outputs": [
    {
     "name": "stdout",
     "output_type": "stream",
     "text": [
      "协方差矩阵：\n",
      " [[1.5 1.5]\n",
      " [1.5 1.5]]\n"
     ]
    }
   ],
   "source": [
    "print(\"协方差矩阵：\\n\", cov_matrix)"
   ]
  },
  {
   "cell_type": "code",
   "execution_count": 4,
   "id": "33a66ab2-14e4-455c-83f0-49f73fc3ee94",
   "metadata": {},
   "outputs": [
    {
     "name": "stdout",
     "output_type": "stream",
     "text": [
      "特征值：\n",
      " [3. 0.]\n"
     ]
    }
   ],
   "source": [
    "print(\"特征值：\\n\", eigenvalues)"
   ]
  },
  {
   "cell_type": "code",
   "execution_count": 5,
   "id": "c8f14362-21bb-425a-8b79-8950492ef813",
   "metadata": {},
   "outputs": [
    {
     "name": "stdout",
     "output_type": "stream",
     "text": [
      "特征向量：\n",
      " [[ 0.70710678 -0.70710678]\n",
      " [ 0.70710678  0.70710678]]\n"
     ]
    }
   ],
   "source": [
    "print(\"特征向量：\\n\", eigenvectors)"
   ]
  },
  {
   "cell_type": "code",
   "execution_count": 6,
   "id": "fcff0a43-20a5-47fc-8cb2-82d95487c57f",
   "metadata": {},
   "outputs": [
    {
     "name": "stdout",
     "output_type": "stream",
     "text": [
      "降维后的数据：\n",
      " [[-1.73205081]\n",
      " [ 0.        ]\n",
      " [ 1.73205081]]\n"
     ]
    }
   ],
   "source": [
    "print(\"降维后的数据：\\n\", transformed_data)"
   ]
  }
 ],
 "metadata": {
  "kernelspec": {
   "display_name": "Python 3 (ipykernel)",
   "language": "python",
   "name": "python3"
  },
  "language_info": {
   "codemirror_mode": {
    "name": "ipython",
    "version": 3
   },
   "file_extension": ".py",
   "mimetype": "text/x-python",
   "name": "python",
   "nbconvert_exporter": "python",
   "pygments_lexer": "ipython3",
   "version": "3.12.2"
  }
 },
 "nbformat": 4,
 "nbformat_minor": 5
}
