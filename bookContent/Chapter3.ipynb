{
 "cells": [
  {
   "cell_type": "markdown",
   "id": "1abc4fa6-7186-470a-84f7-d4d0f39ecdc3",
   "metadata": {},
   "source": [
    "## 3.无监督学习"
   ]
  },
  {
   "cell_type": "markdown",
   "id": "d71fac16-5d46-44f1-8224-d8f9c0f9669b",
   "metadata": {},
   "source": [
    "### 3. 1PCA"
   ]
  },
  {
   "cell_type": "markdown",
   "id": "50ff53d0-9f94-411b-94fa-a37a652fa038",
   "metadata": {},
   "source": [
    "PCA 是一种用于减少数据中的变量的算法。它对变量之间存在相关性的数据很有效，是一种具有代表性的降维算法；<br>\n",
    "PCA 基于原有的变量构造新的变量；<br>\n",
    "PCA 可发现对象数据的方向和重要度"
   ]
  },
  {
   "cell_type": "markdown",
   "id": "e4046c99-0e80-4be7-a0eb-67104dfa41f0",
   "metadata": {},
   "source": [
    "(a)图中画出正交的两条线，线的方向表示数据的方向，长度表示重要度。方向由构成新变量时对象数据变量的权重决定，而重要度与变量的偏差有关。<br>\n",
    "(b)图以这两条线为新轴对原始数据进行变换后得到的图形，变换后的数据称为主成分得分。按主成分轴的重要度的值从高到低排序，依次称它们为第一主成分、第二主成分。"
   ]
  },
  {
   "cell_type": "markdown",
   "id": "f6fd29c6-258f-45d8-b739-555b5ba130e9",
   "metadata": {},
   "source": [
    "![title](./image/PCA.jpg)"
   ]
  },
  {
   "cell_type": "markdown",
   "id": "67b32cbd-b80f-4e8e-8102-7382e13b2d81",
   "metadata": {},
   "source": [
    "接下来介绍PCA 寻找主成分的步骤\n",
    "1. 计算协方差矩阵。\n",
    "2. 对协方差矩阵求解特征值问题，求出特征向量和特征值。\n",
    "3. 以数据表示各主成分方向。"
   ]
  }
 ],
 "metadata": {
  "kernelspec": {
   "display_name": "Python 3 (ipykernel)",
   "language": "python",
   "name": "python3"
  },
  "language_info": {
   "codemirror_mode": {
    "name": "ipython",
    "version": 3
   },
   "file_extension": ".py",
   "mimetype": "text/x-python",
   "name": "python",
   "nbconvert_exporter": "python",
   "pygments_lexer": "ipython3",
   "version": "3.11.7"
  }
 },
 "nbformat": 4,
 "nbformat_minor": 5
}
