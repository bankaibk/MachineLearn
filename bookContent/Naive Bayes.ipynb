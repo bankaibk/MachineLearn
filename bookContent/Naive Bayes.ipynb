{
 "cells": [
  {
   "cell_type": "code",
   "execution_count": 1,
   "id": "4cb5da2e-8d15-4097-8579-a471634bd5c5",
   "metadata": {},
   "outputs": [
    {
     "name": "stdout",
     "output_type": "stream",
     "text": [
      "预测结果: 1\n"
     ]
    }
   ],
   "source": [
    "from sklearn.naive_bayes import MultinomialNB\n",
    "\n",
    "# 生成数据\n",
    "X_train = [\n",
    "    [1, 1, 0, 0, 0, 1, 0, 0, 0, 0, 0],\n",
    "    [0, 1, 1, 1, 0, 0, 0, 0, 0, 0, 0],\n",
    "    [1, 0, 0, 0, 1, 1, 0, 0, 0, 0, 0],\n",
    "    [0, 0, 0, 0, 0, 0, 1, 1, 0, 0, 0],\n",
    "    [0, 0, 0, 0, 0, 0, 0, 1, 1, 1, 0],\n",
    "    [0, 0, 0, 0, 0, 1, 1, 1, 0, 0, 1]\n",
    "]\n",
    "y_train = [1, 1, 1, 0, 0, 0]\n",
    "\n",
    "# 创建朴素贝叶斯模型实例\n",
    "model = MultinomialNB()\n",
    "\n",
    "# 训练模型\n",
    "model.fit(X_train, y_train)\n",
    "\n",
    "# 使用模型进行预测\n",
    "prediction = model.predict([[1, 1, 0, 0, 0, 1, 0, 0, 0, 0, 0]])\n",
    "\n",
    "# 打印预测结果\n",
    "print(\"预测结果:\", prediction[0])"
   ]
  },
  {
   "cell_type": "code",
   "execution_count": 2,
   "id": "23da36c9-0ba9-4f02-814d-b6c0aeed2c57",
   "metadata": {},
   "outputs": [
    {
     "name": "stdout",
     "output_type": "stream",
     "text": [
      "文档: 'man feeds dog' 的预测标签是: 1\n",
      "文档: 'cat catches bird' 的预测标签是: 0\n"
     ]
    }
   ],
   "source": [
    "from sklearn.feature_extraction.text import CountVectorizer\n",
    "from sklearn.naive_bayes import MultinomialNB\n",
    "\n",
    "# 文本数据和对应的标签\n",
    "documents = [\n",
    "    \"dog bites man\",\n",
    "    \"man bites dog\",\n",
    "    \"dog eats meat\",\n",
    "    \"man eats food\",\n",
    "    \"cat eats bird\",\n",
    "    \"bird eats seeds\"\n",
    "]\n",
    "labels = [1, 1, 1, 0, 0, 0]  # 假设标签1代表相关，0代表不相关\n",
    "\n",
    "# 文本向量化\n",
    "vectorizer = CountVectorizer(binary=True)\n",
    "X_train = vectorizer.fit_transform(documents).toarray()\n",
    "\n",
    "# 创建朴素贝叶斯模型实例\n",
    "model = MultinomialNB()\n",
    "\n",
    "# 训练模型\n",
    "model.fit(X_train, labels)\n",
    "\n",
    "# 使用模型进行预测\n",
    "test_documents = [\"man feeds dog\", \"cat catches bird\"]\n",
    "X_test = vectorizer.transform(test_documents).toarray()\n",
    "predictions = model.predict(X_test)\n",
    "\n",
    "# 打印预测结果\n",
    "for doc, label in zip(test_documents, predictions):\n",
    "    print(f\"文档: '{doc}' 的预测标签是: {label}\")"
   ]
  },
  {
   "cell_type": "markdown",
   "id": "47422d66-2b74-4496-aa6f-d06f523f8fd4",
   "metadata": {},
   "source": [
    "这段代码执行以下操作：\n",
    "\n",
    "定义文本数据和标签：提供一组简单的文本数据，每条文本对应一个标签。\n",
    "文本向量化：使用 CountVectorizer 将文本数据转换为二进制特征矩阵。这里的 binary=True 表示我们仅关心单词是否出现（而非出现次数）。\n",
    "模型训练：使用 MultinomialNB 模型对向量化后的数据进行训练。\n",
    "预测新文档：将新文档同样通过 vectorizer 转换后，使用训练好的模型进行预测。\n",
    "打印结果：输出每个测试文档的预测标签。\n",
    "通过这种方式，我们可以将真实的文本数据转换成机器学习模型能处理的格式，并使用朴素贝叶斯进行分类。这个例子更符合现实生活中的应用场景。"
   ]
  },
  {
   "cell_type": "code",
   "execution_count": null,
   "id": "e24268b9-e74a-4276-a495-960c8f3dfe24",
   "metadata": {},
   "outputs": [],
   "source": []
  }
 ],
 "metadata": {
  "kernelspec": {
   "display_name": "Python 3 (ipykernel)",
   "language": "python",
   "name": "python3"
  },
  "language_info": {
   "codemirror_mode": {
    "name": "ipython",
    "version": 3
   },
   "file_extension": ".py",
   "mimetype": "text/x-python",
   "name": "python",
   "nbconvert_exporter": "python",
   "pygments_lexer": "ipython3",
   "version": "3.12.2"
  }
 },
 "nbformat": 4,
 "nbformat_minor": 5
}
