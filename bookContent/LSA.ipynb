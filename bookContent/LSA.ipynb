{
 "cells": [
  {
   "cell_type": "markdown",
   "id": "6b641cf2-8183-4cdf-bbe8-80a5be1507e6",
   "metadata": {},
   "source": [
    "潜在语义分析（LSA）是一种常用于自然语言处理和信息检索的技术。LSA 的目的是挖掘文档集合中的概念结构，通过统计分析来识别词语和文档之间的模式。这里我将通过一个简单的例子详细说明 LSA 的使用过程：\n",
    "\n",
    "### 例子：简单文档集合的 LSA 处理\n",
    "\n",
    "假设我们有以下三个文档：\n",
    "\n",
    "1. 文档1: \"Apple banana fruit apple.\"\n",
    "2. 文档2: \"Banana orange fruit.\"\n",
    "3. 文档3: \"Fruit banana apple.\"\n",
    "\n",
    "我们想要使用 LSA 来发现文档中的潜在主题。\n",
    "\n",
    "#### 步骤1: 文本预处理\n",
    "- 转换为小写：简化词项。\n",
    "- 词干提取或词形还原（可选）：标准化不同形式的单词。\n",
    "- 去除停用词（可选）：如 \"and\", \"is\", \"the\" 等。\n",
    "\n",
    "#### 步骤2: 构建词项-文档矩阵（Term-Document Matrix, TDM）\n",
    "基于上述文档，构建如下的 TDM (假设不进行词干提取和停用词去除):\n",
    "\n",
    "|        | 文档1 | 文档2 | 文档3 |\n",
    "|--------|-------|-------|-------|\n",
    "| apple  | 2     | 0     | 1     |\n",
    "| banana | 1     | 1     | 1     |\n",
    "| orange | 0     | 1     | 0     |\n",
    "| fruit  | 1     | 1     | 1     |\n",
    "\n",
    "#### 步骤3: 使用奇异值分解（SVD）\n",
    "接下来，对 TDM 进行奇异值分解，分解为三个矩阵 U, Σ, V^T：\n",
    "\n",
    "TDM ≈ U Σ V^T\n",
    "\n",
    "在这里，U 矩阵代表词项与潜在主题的关联，Σ 是对角矩阵（包含奇异值，表示主题的重要性），V^T 矩阵代表文档与潜在主题的关联。\n",
    "\n",
    "#### 步骤4: 降维\n",
    "选择保留前 k 个最大的奇异值及其对应的向量（这里假设 k=2），从而获得近似的低维表达：\n",
    "\n",
    "TDM ≈ U_k Σ_k V_k^T\n",
    "\n",
    "#### 步骤5: 解释和应用\n",
    "- **U_k** 和 **V_k^T** 分别表示词语和文档在潜在主题空间的表示。\n",
    "- 可以用这些表示来比较文档的相似性、归类文档、关联词项与主题等。\n",
    "\n",
    "通过这个简化的例子，我们可以看到 LSA 如何帮助我们从一组文档中抽象出潜在的主题，并将词语和文档映射到这些主题上。在实际应用中，LSA 可以处理非常大的文档集合，并且常常用于推荐系统、文档分类等任务。"
   ]
  },
  {
   "cell_type": "code",
   "execution_count": 1,
   "id": "3d2518e8-1344-40ed-8dd8-0380d04be11a",
   "metadata": {},
   "outputs": [],
   "source": [
    "import numpy as np\n",
    "from sklearn.feature_extraction.text import CountVectorizer\n",
    "from sklearn.decomposition import TruncatedSVD\n",
    "\n",
    "# 定义文档集\n",
    "documents = [\n",
    "    \"Apple banana fruit apple\",\n",
    "    \"Banana orange fruit\",\n",
    "    \"Fruit banana apple\"\n",
    "]\n",
    "\n",
    "# 创建词项-文档矩阵\n",
    "vectorizer = CountVectorizer()\n",
    "X = vectorizer.fit_transform(documents)\n"
   ]
  },
  {
   "cell_type": "code",
   "execution_count": 2,
   "id": "ee0cc63e-6f2f-4b23-865e-9afd6fffa093",
   "metadata": {},
   "outputs": [
    {
     "name": "stdout",
     "output_type": "stream",
     "text": [
      "词项-文档矩阵 (TDM):\n",
      "[[2 1 1 0]\n",
      " [0 1 1 1]\n",
      " [1 1 1 0]]\n",
      "词汇: ['apple' 'banana' 'fruit' 'orange']\n"
     ]
    }
   ],
   "source": [
    "# 打印词项-文档矩阵\n",
    "print(\"词项-文档矩阵 (TDM):\")\n",
    "print(X.toarray())\n",
    "print(\"词汇:\", vectorizer.get_feature_names_out())"
   ]
  },
  {
   "cell_type": "code",
   "execution_count": 3,
   "id": "229dedd5-2144-4a90-855d-28bcde87acc7",
   "metadata": {},
   "outputs": [],
   "source": [
    "# 执行奇异值分解（SVD）\n",
    "svd = TruncatedSVD(n_components=2)\n",
    "X_transformed = svd.fit_transform(X)"
   ]
  },
  {
   "cell_type": "code",
   "execution_count": 4,
   "id": "fca6ec45-d7b9-4ae4-bb91-07910e4fdbb4",
   "metadata": {},
   "outputs": [
    {
     "name": "stdout",
     "output_type": "stream",
     "text": [
      "\n",
      "降维后的文档-主题矩阵:\n",
      "[[ 2.36137426e+00 -6.32455532e-01]\n",
      " [ 1.18068713e+00  1.26491106e+00]\n",
      " [ 1.71139388e+00 -3.33066907e-16]]\n"
     ]
    }
   ],
   "source": [
    "# 输出处理后的矩阵和主题\n",
    "print(\"\\n降维后的文档-主题矩阵:\")\n",
    "print(X_transformed)"
   ]
  },
  {
   "cell_type": "code",
   "execution_count": 5,
   "id": "89ff5ac7-9818-41c2-985e-7461501264db",
   "metadata": {},
   "outputs": [
    {
     "name": "stdout",
     "output_type": "stream",
     "text": [
      "\n",
      "奇异值:\n",
      "[3.14626437 1.41421356]\n"
     ]
    }
   ],
   "source": [
    "# 输出奇异值（表示主题的权重）\n",
    "print(\"\\n奇异值:\")\n",
    "print(svd.singular_values_)"
   ]
  },
  {
   "cell_type": "code",
   "execution_count": 6,
   "id": "3eee5adf-1635-4fa0-bc71-9f997bb739a4",
   "metadata": {},
   "outputs": [
    {
     "name": "stdout",
     "output_type": "stream",
     "text": [
      "\n",
      "主题-词项矩阵 (每一行是一个主题，每一列对应一个词):\n",
      "[[ 0.64998037  0.53070675  0.53070675  0.11927362]\n",
      " [-0.63245553  0.31622777  0.31622777  0.63245553]]\n"
     ]
    }
   ],
   "source": [
    "# 输出主题-词项矩阵\n",
    "print(\"\\n主题-词项矩阵 (每一行是一个主题，每一列对应一个词):\")\n",
    "print(svd.components_)"
   ]
  },
  {
   "cell_type": "markdown",
   "id": "72504e6a-6ff3-4a44-9071-173b181e784b",
   "metadata": {},
   "source": [
    "解释\n",
    "\n",
    "CountVectorizer 用于生成词项-文档矩阵。每个元素计数表示词在文档中出现的次数。\n",
    "\n",
    "TruncatedSVD 用于进行奇异值分解，我们提取了两个主要主题（n_components=2）。\n",
    "\n",
    "X_transformed 表示每个文档在新的主题空间中的表示。\n",
    "\n",
    "svd.components_ 表示每个主题与各个词项的关联强度。"
   ]
  }
 ],
 "metadata": {
  "kernelspec": {
   "display_name": "Python 3 (ipykernel)",
   "language": "python",
   "name": "python3"
  },
  "language_info": {
   "codemirror_mode": {
    "name": "ipython",
    "version": 3
   },
   "file_extension": ".py",
   "mimetype": "text/x-python",
   "name": "python",
   "nbconvert_exporter": "python",
   "pygments_lexer": "ipython3",
   "version": "3.11.7"
  }
 },
 "nbformat": 4,
 "nbformat_minor": 5
}
