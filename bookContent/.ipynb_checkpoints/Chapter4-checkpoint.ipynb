{
 "cells": [
  {
   "cell_type": "markdown",
   "id": "9ac0b37e-830c-4f6d-92dc-ef4d8d6315d6",
   "metadata": {},
   "source": [
    "## 第四章 评估方法和各种数据的处理"
   ]
  },
  {
   "cell_type": "markdown",
   "id": "5bee9c5e-8533-4557-a7c1-40f15686b5bf",
   "metadata": {},
   "source": [
    "### 4.1 评估方法\n",
    "#### 有监督学习的评估\n",
    "如 1.2 节所述，有监督学习有多种评估模型的指标。第 2 章和第 3 章介绍了许多机器学习算法，\n",
    "我们现在应该已经知道了每种算法的特点，以及如何为数据集选择合适的算法。本节将梳理一下有\n",
    "监督学习的常见的评估方法、提高机器学习性能的方法，以及提高性能时的障碍。\n",
    "在评估有监督学习的分类问题和回归问题时，所需的指标不同（表 4-1）。\n",
    "\n",
    "![](image/label4-1.png)\n",
    "\n",
    "下面就让我们看一下各个指标的含义，学会为要解决的问题选择合适的指标。\n",
    "在介绍如何评估有监督学习之后，本节还将介绍防止过拟合的方法，以及选择超参数的方法。\n",
    "过拟合是使用机器学习时绕不开的问题。即使选择了正确的评估指标，但是如果在训练数据上发生\n",
    "了过拟合，也无法创建一个好的模型。有几种方法可以防止过拟合，本节将重点介绍一种叫作交叉\n",
    "验证的技术。"
   ]
  },
  {
   "cell_type": "markdown",
   "id": "f20779fc-0195-4e77-a692-cb9c46c335e4",
   "metadata": {},
   "source": [
    "#### 分类问题的评估方法\n",
    "下面我们来看一下分类问题的评估方法。\n",
    "1.2 节中有一段使用逻辑回归模型对美国威斯康星州乳腺癌数据集进行机器学习的代码。\n",
    "大家可以回到 1.2 节看一下数据的详细信息 。\n",
    "需要注意的是，这里把目标变量（类别标签数据）的 0 和 1 反转了。这是为了将恶性视为 1\n",
    "（阳性），将良性视为 0（阴性）。在 scikit-learn 中，标签往往没有意义。这个数据本来是将恶性视为\n",
    "0 的，但是在实际的诊疗中，一般将发现恶性肿瘤作为检查目标，所以就这个问题来说，把恶性当\n",
    "作阳性来处理更加自然。"
   ]
  },
  {
   "cell_type": "code",
   "execution_count": 3,
   "id": "30dadea0-c304-4869-996a-97be633ad2ce",
   "metadata": {},
   "outputs": [],
   "source": [
    "from sklearn.datasets import load_breast_cancer\n",
    "data = load_breast_cancer()\n",
    "X = data.data\n",
    "y = 1 - data.target\n",
    "# 反转标签的0和1\n",
    "X = X[:, :10]\n",
    "from sklearn.linear_model import LogisticRegression\n",
    "model_lor = LogisticRegression(solver='lbfgs', max_iter=1000)\n",
    "model_lor.fit(X, y)\n",
    "y_pred = model_lor.predict(X)"
   ]
  },
  {
   "cell_type": "markdown",
   "id": "4649a462-7a09-4876-b8e8-f4750bfa5c8d",
   "metadata": {},
   "source": [
    "#### 混淆矩阵\n",
    "首先要介绍的分类问题评估指标是**混淆矩阵**（confusion matrix）。混淆矩阵可以将分类结果以\n",
    "表格的形式汇总，这样就可以检查哪些标签分类正确，哪些标签分类错误。我们可以通过 scikit-\n",
    "learn 的 confusion_matrix 函数创建混淆矩阵。"
   ]
  },
  {
   "cell_type": "code",
   "execution_count": 4,
   "id": "7a4f147a-a12d-4bef-8224-423f53dde8ce",
   "metadata": {},
   "outputs": [
    {
     "name": "stdout",
     "output_type": "stream",
     "text": [
      "[[337  20]\n",
      " [ 30 182]]\n"
     ]
    }
   ],
   "source": [
    "from sklearn.metrics import confusion_matrix\n",
    "cm = confusion_matrix(y, y_pred)\n",
    "print(cm)"
   ]
  },
  {
   "cell_type": "markdown",
   "id": "28950596-12ab-4dc6-927a-2b04fb5cbb7c",
   "metadata": {},
   "source": [
    "将这个二元分类的结果作为混淆矩阵输出，我们会得到一个 2 行 2 列的矩阵。如表 4-2 所示，它是一个真实数据（正确答案）和预测数据的矩阵。\n",
    "\n",
    "![](image/label4-2.png)\n",
    "\n",
    "- 左上角的 TN （True Negative）指的是阴性数据实际被正确预测为阴性的情况（正确判断为良性）。\n",
    "- 右上角的 FP （False Positive）指的是阴性数据实际被错误地预测为阳性的情况（良性被判断为恶性）。\n",
    "- 左下角的 FN （False Negative）指的是阳性数据实际被错误地预测为阴性的情况（恶性被判断为良性）。\n",
    "- 右下角的 TP （True Positive）指的是阳性数据实际被正确预测为阳性的情况（正确判断为恶性）。\n",
    "结合输出的数据可知，TN 有 341 条，TP 有 176 条，FP 有 16 条，FN 有 36 条。正确预测的\n",
    "TN、TP 的值较大，总体良好。但是，有 36 条 FN 出现，说明有 36 个恶性患者被漏诊。再看一下\n",
    "相反的情况，FP 有 16 条，说明模型将 16 条良性患者预测为恶性了。\n",
    "这一点可以通过观察后面即将介绍的召回率（recall）再次得到证实。如果想避免恶性患者被漏\n",
    "诊，可以通过后面即将介绍的预测概率来调整预测。\n",
    "混淆矩阵由 4 个数值组成，作为评估指标使用可能让人比较难以理解。因此，有时我们会使用\n",
    "混淆矩阵中的元素计算其他数值，并将其作为评估指标。经常使用的指标有以下几个。\n",
    "\n",
    "![](image/math4-1.png)\n",
    "\n",
    "具体使用哪些指标取决于使用目的。为了正确判断对给定的问题使用哪个指标，我们需要了解\n",
    "每个指标的含义。下面来详细看一下各个指标。"
   ]
  },
  {
   "cell_type": "markdown",
   "id": "399d957d-aa55-4d9c-bb36-b7c959ef9b09",
   "metadata": {},
   "source": [
    "#### 正确率\n",
    "**正确率**（accuracy）指的是预测正确的结果占总预测结果的比例。accuracy_score 函数用于计算正确率。"
   ]
  },
  {
   "cell_type": "code",
   "execution_count": 5,
   "id": "d36332a8-ca04-49b1-aa62-fdc9852f912e",
   "metadata": {},
   "outputs": [
    {
     "data": {
      "text/plain": [
       "0.9121265377855887"
      ]
     },
     "execution_count": 5,
     "metadata": {},
     "output_type": "execute_result"
    }
   ],
   "source": [
    "from sklearn.metrics import accuracy_score\n",
    "accuracy_score(y, y_pred)"
   ]
  },
  {
   "cell_type": "markdown",
   "id": "e1b32448-9b23-4801-ab91-1fffc8d70cd0",
   "metadata": {},
   "source": [
    "这里输出的是基于“作为实际答案的目标变量 y”和“使用学习后的模型预测的 y_pred”计算出来的正确率。\n",
    "正确率超过了 90%，看上去模型正确地学习了数据。"
   ]
  },
  {
   "cell_type": "markdown",
   "id": "7e750381-bee2-49b5-a082-f6f370d33497",
   "metadata": {},
   "source": [
    "#### 精确率\n",
    "**精确率**（precision）指的是在所有被预测为阳性的数据中，被正确预测为阳性的数据所占的比例。precision_score 函数用于计算精确率。"
   ]
  },
  {
   "cell_type": "code",
   "execution_count": 6,
   "id": "9a998711-9df0-4259-b6de-d83b69734840",
   "metadata": {},
   "outputs": [
    {
     "data": {
      "text/plain": [
       "0.900990099009901"
      ]
     },
     "execution_count": 6,
     "metadata": {},
     "output_type": "execute_result"
    }
   ],
   "source": [
    "from sklearn.metrics import precision_score\n",
    "precision_score(y, y_pred)"
   ]
  },
  {
   "cell_type": "markdown",
   "id": "9a8b620d-90db-4981-8a98-7a15e39fe245",
   "metadata": {},
   "source": [
    "与正确率的计算一样，精确率是基于 y 和 y_pred 计算出来的。在这个问题中，它表示预测为恶性的病例中实际确实为恶性的病例所占的比例。精确率低，意味着预测为恶性的病例之中包含了其实是良性的病例。在这种情况下，可以通过再次检查等方式解决精确率低的问题。"
   ]
  },
  {
   "cell_type": "markdown",
   "id": "21d796b4-c42e-436d-8d31-13238006a5ce",
   "metadata": {},
   "source": [
    "#### 召回率\n",
    "召回率指的是在实际为阳性的数据中，被正确预测为阳性的数据所占的比例。recall_score函数用于计算召回率。"
   ]
  },
  {
   "cell_type": "code",
   "execution_count": 7,
   "id": "ad18fd01-efb5-4eae-9f6a-01c17bae60d5",
   "metadata": {},
   "outputs": [
    {
     "data": {
      "text/plain": [
       "0.8584905660377359"
      ]
     },
     "execution_count": 7,
     "metadata": {},
     "output_type": "execute_result"
    }
   ],
   "source": [
    "from sklearn.metrics import recall_score\n",
    "recall_score(y, y_pred)"
   ]
  },
  {
   "cell_type": "markdown",
   "id": "817e7297-4900-4a07-81cb-cd7cde0d921b",
   "metadata": {},
   "source": [
    "与正确率的计算一样，召回率是基于 y 和 y_pred 计算出来的。在这个问题中，它表示实际为恶性的病例中被正确地预测为恶性的病例所占的比例。召回率低，意味着实际为恶性的病例大部分被预测为良性。与精确率低的情况相比，召回率低的问题更严重。在使用这样的模型解决实际问题之前，需要想办法提高召回率。后面的“预测概率”部分将介绍如何提高召回率。"
   ]
  },
  {
   "cell_type": "markdown",
   "id": "0d1402e3-216c-47d0-90e2-7300c9334585",
   "metadata": {},
   "source": [
    "#### F值\n",
    "**F 值**是综合反映精确率和召回率两个趋势的指标。f1_score 函数用于计算 F 值。"
   ]
  },
  {
   "cell_type": "code",
   "execution_count": 8,
   "id": "40d1792c-67fc-40d0-b5c2-793a1de00d40",
   "metadata": {},
   "outputs": [
    {
     "data": {
      "text/plain": [
       "0.8792270531400966"
      ]
     },
     "execution_count": 8,
     "metadata": {},
     "output_type": "execute_result"
    }
   ],
   "source": [
    "from sklearn.metrics import f1_score\n",
    "f1_score(y, y_pred)"
   ]
  },
  {
   "cell_type": "markdown",
   "id": "30a872bd-53ea-4cb6-a84f-27b5c334a5d2",
   "metadata": {},
   "source": [
    "精确率和召回率之间是此消彼长的关系，如果试图让其中一个的值更高，则会导致另一个的值\n",
    "更低。如果这两个指标同等重要，可以观察 F 值。"
   ]
  },
  {
   "cell_type": "markdown",
   "id": "1cd13363-ebb5-47e4-ad18-6128b12b5475",
   "metadata": {},
   "source": [
    "#### 预测概率\n",
    "到目前为止，我们都是使用 predict 进行标签预测的。接下来我们看一下预测概率。在进行\n",
    "二元分类时，预测结果必须为 0 或者 1 这两个值中的一个。然而，实际情况是大多数模型预测的是\n",
    "数据被分类为某一个标签的概率。也就是说，我们可以分别求出数据被分类为 0 或 1 的概率。\n",
    "我们可以使用学习后的模型的 predict_proba 方法查看预测概率。"
   ]
  },
  {
   "cell_type": "code",
   "execution_count": 9,
   "id": "8040d363-84ad-4d73-ae88-2ebb92075a48",
   "metadata": {},
   "outputs": [
    {
     "data": {
      "text/plain": [
       "array([[7.66978836e-03, 9.92330212e-01],\n",
       "       [2.04595786e-02, 9.79540421e-01],\n",
       "       [2.35686893e-03, 9.97643131e-01],\n",
       "       ...,\n",
       "       [2.35035865e-02, 9.76496414e-01],\n",
       "       [8.09411971e-06, 9.99991906e-01],\n",
       "       [9.99575938e-01, 4.24061876e-04]])"
      ]
     },
     "execution_count": 9,
     "metadata": {},
     "output_type": "execute_result"
    }
   ],
   "source": [
    "model_lor.predict_proba(X)\n"
   ]
  },
  {
   "cell_type": "markdown",
   "id": "3aa177a0-43c6-4e04-97e7-f3d4bc0ff11d",
   "metadata": {},
   "source": [
    "上面的代码输出的是特征 X 中每个数据被预测为 0 或 1 的概率。以第一行为例，数据被分类\n",
    "为 0 的概率约为 0.44%，所以预测其为恶性（1）。相反，最后一行的数据被分类为 0 的概率约为\n",
    "97.4%，所以预测其为良性（0）。\n",
    "另外，scikit-learn 的 predict 方法使用的是基于阈值 0.5 输出的判断结果。\n",
    "为了尽量避免漏掉恶性病例，我们考虑预测概率的第 2 个元素（即恶性的概率）为 10%（0.1）\n",
    "或更大的情况。"
   ]
  },
  {
   "cell_type": "code",
   "execution_count": 11,
   "id": "faf55b21-99ef-4c5b-bdcc-46458b71e62c",
   "metadata": {},
   "outputs": [
    {
     "name": "stdout",
     "output_type": "stream",
     "text": [
      "[[267  90]\n",
      " [  6 206]]\n"
     ]
    }
   ],
   "source": [
    "import numpy as np\n",
    "y_pred2 = (model_lor.predict_proba(X)[:, 1]>0.1).astype(int)\n",
    "print(confusion_matrix(y, y_pred2))"
   ]
  },
  {
   "cell_type": "markdown",
   "id": "5d52830c-9656-4b8e-ab6b-528cda2775dd",
   "metadata": {},
   "source": [
    "在输出混淆矩阵后，和我们设想的一样，左下角的 FN（实际为 1 却被错误地预测为 0 的数据）\n",
    "减少了。\n",
    "这里再看一下其他指标。"
   ]
  },
  {
   "cell_type": "code",
   "execution_count": 12,
   "id": "4df4dd7f-b885-492b-b2bf-e22284fb8d91",
   "metadata": {},
   "outputs": [
    {
     "name": "stdout",
     "output_type": "stream",
     "text": [
      "0.8312829525483304\n",
      "0.9716981132075472\n"
     ]
    }
   ],
   "source": [
    "print(accuracy_score(y, y_pred2))\n",
    "print(recall_score(y, y_pred2))"
   ]
  },
  {
   "cell_type": "markdown",
   "id": "cd8695ac-16f9-49f1-be72-25ab2c8a742e",
   "metadata": {},
   "source": [
    "正确率下降到 0.82 左右，但是恶性（1）病例的召回率非常高，达到了 0.99 左右。"
   ]
  },
  {
   "cell_type": "markdown",
   "id": "52f7d8b7-35c4-46c9-b6cf-b21e1d6a66a3",
   "metadata": {},
   "source": [
    "#### ROC 曲线与 AUC\n",
    "现在我们已经了解了正确率和 F 值等指标，但实际上在有些情况下，这些指标并不能很好地发\n",
    "挥作用。这些情况发生在阳性数据的数量和阴性数据的数量有很大偏差的时候。假设有一个总是预\n",
    "测输出结果为阳性的模型。由于对任何输入都预测数据是阳性的，所以我们可能会以为这个模型的\n",
    "正确率非常低。但在输入数据有偏差的情况下，比如阳性数据有 95 个，阴性数据有 5 个的情况下，\n",
    "正确率会高达 95%。\n",
    "虽然这个模型是一个极端的例子，但是在实际工作中，这种没有经过很好训练的模型因数据不\n",
    "均衡而计算出高正确率结果的情况经常出现。\n",
    "应对数据不均衡问题的指标有 AUC （Area Under the Curve，曲线下面积）。AUC 指的是 ROC\n",
    "（Receiver Operating Characteristic，接收器操作特性）曲线下的面积。这里的 ROC 曲线（图 4-1）指\n",
    "的是横轴为假阳性率（即 FP 的占比），纵轴为真阳性率（即 TP 的占比）的图形。图中显示了当预\n",
    "测数据为阳性的预测概率的阈值从 1 开始逐渐下降时，FP 和 TP 之间关系的变化。\n",
    "假阳性率、真阳性率是可视化 ROC 曲线的必要条件，可以使用 roc_curve 函数计算。"
   ]
  },
  {
   "cell_type": "code",
   "execution_count": 13,
   "id": "95531deb-9ba7-4dfe-a62c-215c3a2bd3e8",
   "metadata": {},
   "outputs": [],
   "source": [
    "from sklearn.metrics import roc_curve\n",
    "probas = model_lor.predict_proba(X)\n",
    "fpr, tpr, thresholds = roc_curve(y, probas[:, 1])"
   ]
  },
  {
   "cell_type": "markdown",
   "id": "0817cbdb-d056-49c4-b5e6-2f4557bc6478",
   "metadata": {},
   "source": [
    "roc_curve 函数的输入是目标变量（类别标签数据）和预测概率。这里使用 predict_\n",
    "proba 方法计算了预测概率。下面在 Matplotlib 中对 roc_curve 函数输出的 fpr 和 tpr 进行可\n",
    "视化。"
   ]
  },
  {
   "cell_type": "code",
   "execution_count": 14,
   "id": "673150c8-b70d-445d-920d-91b4de426bd2",
   "metadata": {},
   "outputs": [
    {
     "data": {
      "image/png": "[encoded data removed]",
      "text/plain": [
       "<Figure size 480x500 with 1 Axes>"
      ]
     },
     "metadata": {},
     "output_type": "display_data"
    }
   ],
   "source": [
    "%matplotlib inline\n",
    "import matplotlib.pyplot as plt\n",
    "plt.style.use('fivethirtyeight')\n",
    "fig, ax = plt.subplots()\n",
    "fig.set_size_inches(4.8, 5)\n",
    "ax.step(fpr, tpr, 'gray')\n",
    "ax.fill_between(fpr, tpr, 0, color='skyblue', alpha=0.8)\n",
    "ax.set_xlabel('False Positive Rate')\n",
    "ax.set_ylabel('True Positive Rate')\n",
    "ax.set_facecolor('xkcd:white')\n",
    "plt.show()"
   ]
  },
  {
   "cell_type": "markdown",
   "id": "dc0fdd85-10bf-4878-98a8-22668f29219b",
   "metadata": {},
   "source": [
    "ROC 曲线下方的面积是 AUC。面积的最大值是 1，最小值是 0。AUC 越接近于 1（面积越大），\n",
    "说明精度越高；如果其值在 0.5 左右，则说明预测不够理想。换言之，如果值在 0.5 左右，则得到\n",
    "的分类模型和抛硬币随机决定良性恶性没多大区别。\n",
    "roc_auc_score 函数用于计算 AUC 值。"
   ]
  },
  {
   "cell_type": "code",
   "execution_count": 15,
   "id": "9114a074-efd8-4cf0-b5ac-1eac65817e3b",
   "metadata": {},
   "outputs": [
    {
     "data": {
      "text/plain": [
       "0.9741028486866444"
      ]
     },
     "execution_count": 15,
     "metadata": {},
     "output_type": "execute_result"
    }
   ],
   "source": [
    "from sklearn.metrics import roc_auc_score\n",
    "roc_auc_score(y, probas[:, 1])"
   ]
  },
  {
   "cell_type": "markdown",
   "id": "fa477960-18ea-4571-a798-ec227a2603cd",
   "metadata": {},
   "source": [
    "AUC 的结果约为 0.977，接近于 1。对于一个分类模型来说，这样的精度是很高的。\n",
    "由于乳腺癌的数据偏差不大，所以用正确率来考查模型的性能也没有太大问题。不过如果输入\n",
    "数据为关于“观看网站广告的用户中有多少会购买商品”的预测数据，那么正例和反例的数量可能\n",
    "有相当大的偏差，常常出现正确率为 0.99，但 AUC 只有 0.6 的情况。在处理不均衡数据时，我们使\n",
    "用 AUC 作为指标。"
   ]
  },
  {
   "cell_type": "markdown",
   "id": "d5796ae0-9f71-44f2-9573-871f2c480bd3",
   "metadata": {},
   "source": [
    "#### 回归问题的评估方法\n"
   ]
  },
  {
   "cell_type": "code",
   "execution_count": null,
   "id": "be799196-1f54-456f-9036-0749f8bfe968",
   "metadata": {},
   "outputs": [],
   "source": []
  }
 ],
 "metadata": {
  "kernelspec": {
   "display_name": "Python 3 (ipykernel)",
   "language": "python",
   "name": "python3"
  },
  "language_info": {
   "codemirror_mode": {
    "name": "ipython",
    "version": 3
   },
   "file_extension": ".py",
   "mimetype": "text/x-python",
   "name": "python",
   "nbconvert_exporter": "python",
   "pygments_lexer": "ipython3",
   "version": "3.11.7"
  }
 },
 "nbformat": 4,
 "nbformat_minor": 5
}
