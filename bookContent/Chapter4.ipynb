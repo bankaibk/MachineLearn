{
 "cells": [
  {
   "cell_type": "markdown",
   "id": "9ac0b37e-830c-4f6d-92dc-ef4d8d6315d6",
   "metadata": {},
   "source": [
    "## 第四章 评估方法和各种数据的处理"
   ]
  },
  {
   "cell_type": "markdown",
   "id": "5bee9c5e-8533-4557-a7c1-40f15686b5bf",
   "metadata": {},
   "source": [
    "### 4.1 评估方法\n",
    "#### 有监督学习的评估\n",
    "如 1.2 节所述，有监督学习有多种评估模型的指标。第 2 章和第 3 章介绍了许多机器学习算法，\n",
    "我们现在应该已经知道了每种算法的特点，以及如何为数据集选择合适的算法。本节将梳理一下有\n",
    "监督学习的常见的评估方法、提高机器学习性能的方法，以及提高性能时的障碍。\n",
    "在评估有监督学习的分类问题和回归问题时，所需的指标不同（表 4-1）。\n",
    "\n",
    "![](image/label4-1.png)\n",
    "\n",
    "下面就让我们看一下各个指标的含义，学会为要解决的问题选择合适的指标。\n",
    "在介绍如何评估有监督学习之后，本节还将介绍防止过拟合的方法，以及选择超参数的方法。\n",
    "过拟合是使用机器学习时绕不开的问题。即使选择了正确的评估指标，但是如果在训练数据上发生\n",
    "了过拟合，也无法创建一个好的模型。有几种方法可以防止过拟合，本节将重点介绍一种叫作交叉\n",
    "验证的技术。"
   ]
  },
  {
   "cell_type": "markdown",
   "id": "f20779fc-0195-4e77-a692-cb9c46c335e4",
   "metadata": {},
   "source": [
    "#### 分类问题的评估方法\n",
    "下面我们来看一下分类问题的评估方法。\n",
    "1.2 节中有一段使用逻辑回归模型对美国威斯康星州乳腺癌数据集进行机器学习的代码。\n",
    "大家可以回到 1.2 节看一下数据的详细信息 。\n",
    "需要注意的是，这里把目标变量（类别标签数据）的 0 和 1 反转了。这是为了将恶性视为 1\n",
    "（阳性），将良性视为 0（阴性）。在 scikit-learn 中，标签往往没有意义。这个数据本来是将恶性视为\n",
    "0 的，但是在实际的诊疗中，一般将发现恶性肿瘤作为检查目标，所以就这个问题来说，把恶性当\n",
    "作阳性来处理更加自然。"
   ]
  },
  {
   "cell_type": "code",
   "execution_count": 3,
   "id": "30dadea0-c304-4869-996a-97be633ad2ce",
   "metadata": {},
   "outputs": [],
   "source": [
    "from sklearn.datasets import load_breast_cancer\n",
    "data = load_breast_cancer()\n",
    "X = data.data\n",
    "y = 1 - data.target\n",
    "# 反转标签的0和1\n",
    "X = X[:, :10]\n",
    "from sklearn.linear_model import LogisticRegression\n",
    "model_lor = LogisticRegression(solver='lbfgs', max_iter=1000)\n",
    "model_lor.fit(X, y)\n",
    "y_pred = model_lor.predict(X)"
   ]
  },
  {
   "cell_type": "markdown",
   "id": "4649a462-7a09-4876-b8e8-f4750bfa5c8d",
   "metadata": {},
   "source": [
    "#### 混淆矩阵\n",
    "首先要介绍的分类问题评估指标是**混淆矩阵**（confusion matrix）。\n",
    "如果我们用的是个二分类的模型，那么把预测情况与实际情况的所有结果两两混合，结果就会出现以下4种情况，就组成了混淆矩阵。\n",
    "\n",
    "![](./image/ConfusionMatrix.png)\n",
    "\n",
    "由于1和0是数字，阅读性不好，所以我们分别用P和N表示1和0两种结果。变换之后为PP，PN，NP，NN，阅读性也很差，我并不能轻易地看出来预测的正确性与否。因此，为了能够更清楚地分辨各种预测情况是否正确，我们将其中一个符号修改为T和F，以便于分辨出结果。\n",
    "\n",
    "- P（Positive）： 代表1\n",
    "\n",
    "- N（Negative）： 代表0\n",
    "\n",
    "- T（True）： 代表预测正确\n",
    "\n",
    "- F（False）： 代表错误\n",
    "\n",
    "按照上面的字符表示重新分配矩阵，混淆矩阵就变成了下面这样：\n",
    "\n",
    "![](./image/ConfusionMatrix2.png)\n",
    "\n",
    "将这种表示方法总结如下，可分为两部分：\n",
    "\n",
    "![](./image/ConfusionMatrix3.png)\n",
    "\n",
    "因此对于这种表示方法可以这么简单的理解：先看 ①预测结果（P/N），再根据②实际表现对比预测结果，给出判断结果（T/F）。 按这个顺序理解，这四种情况就很好记住了。\n",
    "\n",
    "TP： 预测为1，预测正确，即实际1\n",
    "\n",
    "FP： 预测为1，预测错误，即实际0\n",
    "\n",
    "FN： 预测为0，预测错确，即实际1\n",
    "\n",
    "TN： 预测为0，预测正确即，实际0\n",
    "\n",
    "混淆矩阵可以将分类结果以\n",
    "表格的形式汇总，这样就可以检查哪些标签分类正确，哪些标签分类错误。我们可以通过 scikit-\n",
    "learn 的 confusion_matrix 函数创建混淆矩阵。"
   ]
  },
  {
   "cell_type": "code",
   "execution_count": 4,
   "id": "7a4f147a-a12d-4bef-8224-423f53dde8ce",
   "metadata": {},
   "outputs": [
    {
     "name": "stdout",
     "output_type": "stream",
     "text": [
      "[[337  20]\n",
      " [ 30 182]]\n"
     ]
    }
   ],
   "source": [
    "from sklearn.metrics import confusion_matrix\n",
    "cm = confusion_matrix(y, y_pred)\n",
    "print(cm)"
   ]
  },
  {
   "cell_type": "markdown",
   "id": "28950596-12ab-4dc6-927a-2b04fb5cbb7c",
   "metadata": {},
   "source": [
    "将这个二元分类的结果作为混淆矩阵输出，我们会得到一个 2 行 2 列的矩阵。如表 4-2 所示，它是一个真实数据（正确答案）和预测数据的矩阵。\n",
    "\n",
    "![](image/label4-2.png)\n",
    "\n",
    "- 左上角的 TN （True Negative）指的是阴性数据实际被正确预测为阴性的情况（正确判断为良性）。\n",
    "- 右上角的 FP （False Positive）指的是阴性数据实际被错误地预测为阳性的情况（良性被判断为恶性）。\n",
    "- 左下角的 FN （False Negative）指的是阳性数据实际被错误地预测为阴性的情况（恶性被判断为良性）。\n",
    "- 右下角的 TP （True Positive）指的是阳性数据实际被正确预测为阳性的情况（正确判断为恶性）。\n",
    "结合输出的数据可知，TN 有 341 条，TP 有 176 条，FP 有 16 条，FN 有 36 条。正确预测的\n",
    "TN、TP 的值较大，总体良好。但是，有 36 条 FN 出现，说明有 36 个恶性患者被漏诊。再看一下\n",
    "相反的情况，FP 有 16 条，说明模型将 16 条良性患者预测为恶性了。\n",
    "这一点可以通过观察后面即将介绍的召回率（recall）再次得到证实。如果想避免恶性患者被漏\n",
    "诊，可以通过后面即将介绍的预测概率来调整预测。\n",
    "混淆矩阵由 4 个数值组成，作为评估指标使用可能让人比较难以理解。因此，有时我们会使用\n",
    "混淆矩阵中的元素计算其他数值，并将其作为评估指标。经常使用的指标有以下几个。\n",
    "\n",
    "![](image/math4-1.png)\n",
    "\n",
    "具体使用哪些指标取决于使用目的。为了正确判断对给定的问题使用哪个指标，我们需要了解\n",
    "每个指标的含义。下面来详细看一下各个指标。"
   ]
  },
  {
   "cell_type": "markdown",
   "id": "399d957d-aa55-4d9c-bb36-b7c959ef9b09",
   "metadata": {},
   "source": [
    "#### 正确率\n",
    "**正确率**（accuracy）指的是预测正确的结果占总预测结果的比例。\n",
    "其公式如下：\n",
    "\n",
    "准确率=(TP+TN)/(TP+TN+FP+FN)\n",
    "\n",
    "![](./image/accuracy.png)\n",
    "\n",
    "虽然准确率可以判断总的正确率，但是在样本不平衡 的情况下，并不能作为很好的指标来衡量结果。举个简单的例子，比如在一个总样本中，正样本占90%，负样本占10%，样本是严重不平衡的。对于这种情况，我们只需要将全部样本预测为正样本即可得到90%的高准确率，但实际上我们并没有很用心的分类，只是随便无脑一分而已。这就说明了：由于样本不平衡的问题，导致了得到的高准确率结果含有很大的水分。即如果样本不平衡，准确率就会失效。\n",
    "\n",
    "正因为如此，也就衍生出了其它两种指标：精准率和召回率。\n",
    "accuracy_score 函数用于计算正确率。"
   ]
  },
  {
   "cell_type": "code",
   "execution_count": 5,
   "id": "d36332a8-ca04-49b1-aa62-fdc9852f912e",
   "metadata": {},
   "outputs": [
    {
     "data": {
      "text/plain": [
       "0.9121265377855887"
      ]
     },
     "execution_count": 5,
     "metadata": {},
     "output_type": "execute_result"
    }
   ],
   "source": [
    "from sklearn.metrics import accuracy_score\n",
    "accuracy_score(y, y_pred)"
   ]
  },
  {
   "cell_type": "markdown",
   "id": "e1b32448-9b23-4801-ab91-1fffc8d70cd0",
   "metadata": {},
   "source": [
    "这里输出的是基于“作为实际答案的目标变量 y”和“使用学习后的模型预测的 y_pred”计算出来的正确率。\n",
    "正确率超过了 90%，看上去模型正确地学习了数据。"
   ]
  },
  {
   "cell_type": "markdown",
   "id": "7e750381-bee2-49b5-a082-f6f370d33497",
   "metadata": {},
   "source": [
    "#### 精确率\n",
    "**精确率**（precision）指的是在所有被预测为阳性的数据中，被正确预测为阳性的数据所占的比例。\n",
    "它是针对预测结果 而言的，它的含义是在所有被预测为正的样本中实际为正的样本的概率，意思就是在预测为正样本的结果中，我们有多少把握可以预测正确，其公式如下：\n",
    "\n",
    "精准率=TP/(TP+FP)\n",
    "\n",
    "![](./image/precision.png)\n",
    "\n",
    "> 精准率和准确率看上去有些类似，但是完全不同的两个概念。精准率代表对正样本结果中的预测准确程度，而准确率则代表整体的预测准确程度，既包括正样本，也包括负样本。\n",
    "\n",
    "precision_score 函数用于计算精确率。"
   ]
  },
  {
   "cell_type": "code",
   "execution_count": 6,
   "id": "9a998711-9df0-4259-b6de-d83b69734840",
   "metadata": {},
   "outputs": [
    {
     "data": {
      "text/plain": [
       "0.900990099009901"
      ]
     },
     "execution_count": 6,
     "metadata": {},
     "output_type": "execute_result"
    }
   ],
   "source": [
    "from sklearn.metrics import precision_score\n",
    "precision_score(y, y_pred)"
   ]
  },
  {
   "cell_type": "markdown",
   "id": "9a8b620d-90db-4981-8a98-7a15e39fe245",
   "metadata": {},
   "source": [
    "与正确率的计算一样，精确率是基于 y 和 y_pred 计算出来的。在这个问题中，它表示预测为恶性的病例中实际确实为恶性的病例所占的比例。精确率低，意味着预测为恶性的病例之中包含了其实是良性的病例。在这种情况下，可以通过再次检查等方式解决精确率低的问题。"
   ]
  },
  {
   "cell_type": "markdown",
   "id": "21d796b4-c42e-436d-8d31-13238006a5ce",
   "metadata": {},
   "source": [
    "#### 召回率\n",
    "召回率指的是在实际为阳性的数据中，被正确预测为阳性的数据所占的比例。是针对原样本而言的，它的含义是在实际为正的样本中被预测为正样本的概率，其公式如下：\n",
    "\n",
    "精准率=TP/(TP+FN)\n",
    "\n",
    "![](./image/recall.png)\n",
    "\n",
    "recall_score函数用于计算召回率。"
   ]
  },
  {
   "cell_type": "code",
   "execution_count": 7,
   "id": "ad18fd01-efb5-4eae-9f6a-01c17bae60d5",
   "metadata": {},
   "outputs": [
    {
     "data": {
      "text/plain": [
       "0.8584905660377359"
      ]
     },
     "execution_count": 7,
     "metadata": {},
     "output_type": "execute_result"
    }
   ],
   "source": [
    "from sklearn.metrics import recall_score\n",
    "recall_score(y, y_pred)"
   ]
  },
  {
   "cell_type": "markdown",
   "id": "817e7297-4900-4a07-81cb-cd7cde0d921b",
   "metadata": {},
   "source": [
    "与正确率的计算一样，召回率是基于 y 和 y_pred 计算出来的。在这个问题中，它表示实际为恶性的病例中被正确地预测为恶性的病例所占的比例。召回率低，意味着实际为恶性的病例大部分被预测为良性。与精确率低的情况相比，召回率低的问题更严重。在使用这样的模型解决实际问题之前，需要想办法提高召回率。后面的“预测概率”部分将介绍如何提高召回率。"
   ]
  },
  {
   "cell_type": "markdown",
   "id": "0d1402e3-216c-47d0-90e2-7300c9334585",
   "metadata": {},
   "source": [
    "#### F值\n",
    "**F 值**是综合反映精确率和召回率两个趋势的指标。如果我们把精确率（Precision）和召回率（Recall）之间的关系用图来表达，就是下面的PR曲线：\n",
    "\n",
    "![](./image/F1.png)\n",
    "\n",
    "可以发现他们俩的关系是「两难全」的关系。为了综合两者的表现，在两者之间找一个平衡点，就出现了一个 F1分数。\n",
    "\n",
    "F1=(2×Precision×Recall)/（Precision+Recall）\n",
    "\n",
    "f1_score 函数用于计算 F 值。"
   ]
  },
  {
   "cell_type": "code",
   "execution_count": 8,
   "id": "40d1792c-67fc-40d0-b5c2-793a1de00d40",
   "metadata": {},
   "outputs": [
    {
     "data": {
      "text/plain": [
       "0.8792270531400966"
      ]
     },
     "execution_count": 8,
     "metadata": {},
     "output_type": "execute_result"
    }
   ],
   "source": [
    "from sklearn.metrics import f1_score\n",
    "f1_score(y, y_pred)"
   ]
  },
  {
   "cell_type": "markdown",
   "id": "30a872bd-53ea-4cb6-a84f-27b5c334a5d2",
   "metadata": {},
   "source": [
    "精确率和召回率之间是此消彼长的关系，如果试图让其中一个的值更高，则会导致另一个的值\n",
    "更低。如果这两个指标同等重要，可以观察 F 值。"
   ]
  },
  {
   "cell_type": "markdown",
   "id": "1cd13363-ebb5-47e4-ad18-6128b12b5475",
   "metadata": {},
   "source": [
    "#### 预测概率\n",
    "到目前为止，我们都是使用 predict 进行标签预测的。接下来我们看一下预测概率。在进行\n",
    "二元分类时，预测结果必须为 0 或者 1 这两个值中的一个。然而，实际情况是大多数模型预测的是\n",
    "数据被分类为某一个标签的概率。也就是说，我们可以分别求出数据被分类为 0 或 1 的概率。\n",
    "我们可以使用学习后的模型的 predict_proba 方法查看预测概率。"
   ]
  },
  {
   "cell_type": "code",
   "execution_count": null,
   "id": "740b4b3b-d04c-408d-8d68-a375066d9151",
   "metadata": {},
   "outputs": [],
   "source": [
    "model_lor.predict_proba(X)"
   ]
  },
  {
   "cell_type": "markdown",
   "id": "3aa177a0-43c6-4e04-97e7-f3d4bc0ff11d",
   "metadata": {},
   "source": [
    "上面的代码输出的是特征 X 中每个数据被预测为 0 或 1 的概率。以第一行为例，数据被分类\n",
    "为 0 的概率约为 0.44%，所以预测其为恶性（1）。相反，最后一行的数据被分类为 0 的概率约为\n",
    "97.4%，所以预测其为良性（0）。\n",
    "另外，scikit-learn 的 predict 方法使用的是基于阈值 0.5 输出的判断结果。\n",
    "为了尽量避免漏掉恶性病例，我们考虑预测概率的第 2 个元素（即恶性的概率）为 10%（0.1）\n",
    "或更大的情况。"
   ]
  },
  {
   "cell_type": "code",
   "execution_count": 11,
   "id": "faf55b21-99ef-4c5b-bdcc-46458b71e62c",
   "metadata": {},
   "outputs": [
    {
     "name": "stdout",
     "output_type": "stream",
     "text": [
      "[[267  90]\n",
      " [  6 206]]\n"
     ]
    }
   ],
   "source": [
    "import numpy as np\n",
    "y_pred2 = (model_lor.predict_proba(X)[:, 1]>0.1).astype(int)\n",
    "print(confusion_matrix(y, y_pred2))"
   ]
  },
  {
   "cell_type": "markdown",
   "id": "5d52830c-9656-4b8e-ab6b-528cda2775dd",
   "metadata": {},
   "source": [
    "在输出混淆矩阵后，和我们设想的一样，左下角的 FN（实际为 1 却被错误地预测为 0 的数据）\n",
    "减少了。\n",
    "这里再看一下其他指标。"
   ]
  },
  {
   "cell_type": "code",
   "execution_count": 12,
   "id": "4df4dd7f-b885-492b-b2bf-e22284fb8d91",
   "metadata": {},
   "outputs": [
    {
     "name": "stdout",
     "output_type": "stream",
     "text": [
      "0.8312829525483304\n",
      "0.9716981132075472\n"
     ]
    }
   ],
   "source": [
    "print(accuracy_score(y, y_pred2))\n",
    "print(recall_score(y, y_pred2))"
   ]
  },
  {
   "cell_type": "markdown",
   "id": "cd8695ac-16f9-49f1-be72-25ab2c8a742e",
   "metadata": {},
   "source": [
    "正确率下降到 0.82 左右，但是恶性（1）病例的召回率非常高，达到了 0.99 左右。"
   ]
  },
  {
   "cell_type": "markdown",
   "id": "52f7d8b7-35c4-46c9-b6cf-b21e1d6a66a3",
   "metadata": {},
   "source": [
    "#### ROC 曲线与 AUC\n",
    "现在我们已经了解了正确率和 F 值等指标，但实际上在有些情况下，这些指标并不能很好地发\n",
    "挥作用。这些情况发生在阳性数据的数量和阴性数据的数量有很大偏差的时候。假设有一个总是预\n",
    "测输出结果为阳性的模型。由于对任何输入都预测数据是阳性的，所以我们可能会以为这个模型的\n",
    "正确率非常低。但在输入数据有偏差的情况下，比如阳性数据有 95 个，阴性数据有 5 个的情况下，\n",
    "正确率会高达 95%。\n",
    "虽然这个模型是一个极端的例子，但是在实际工作中，这种没有经过很好训练的模型因数据不\n",
    "均衡而计算出高正确率结果的情况经常出现。\n",
    "应对数据不均衡问题的指标有 AUC （Area Under the Curve，曲线下面积）。AUC 指的是 ROC\n",
    "（Receiver Operating Characteristic，接收器操作特性）曲线下的面积。\n",
    "\n",
    "**灵敏度，特异度，真正率，假正率**\n",
    "\n",
    "在正式介绍 ROC/AUC 之前，我们还要再介绍两个指标，这两个指标的选择也正是 ROC 和 AUC 可以无视样本不平衡的原因。 这两个指标分别是：灵敏度和（1- 特异度），也叫做真正率（TPR）和假正率（FPR）。\n",
    "\n",
    "灵敏度（Sensitivity） = TP/(TP+FN)\n",
    "\n",
    "特异度（Specificity） = TN/(FP+TN)\n",
    "\n",
    "- 其实我们可以发现灵敏度和召回率是一模一样的，只是名字换了而已。\n",
    "- 由于我们比较关心正样本，所以需要查看有多少负样本被错误地预测为正样本，所以使用（1- 特异度），而不是特异度。\n",
    "\n",
    "真正率（TPR） = 灵敏度 = TP/(TP+FN)\n",
    "\n",
    "假正率（FPR） = 1- 特异度 = FP/(FP+TN)\n",
    "\n",
    "下面是真正率和假正率的示意，我们发现TPR 和 FPR 分别是基于实际表现 1 和 0 出发的，也就是说它们分别在实际的正样本和负样本中来观察相关概率问题。 正因为如此，所以无论样本是否平衡，都不会被影响。还是拿之前的例子，总样本中，90% 是正样本，10% 是负样本。我们知道用准确率是有水分的，但是用 TPR 和 FPR 不一样。这里，TPR 只关注 90% 正样本中有多少是被真正覆盖的，而与那 10% 毫无关系，同理，FPR 只关注 10% 负样本中有多少是被错误覆盖的，也与那 90% 毫无关系，所以可以看出：如果我们从实际表现的各个结果角度出发，就可以避免样本不平衡的问题了，这也是为什么选用 TPR 和 FPR 作为 ROC/AUC 的指标的原因。\n",
    "\n",
    "![](./image/TFPR.png)\n",
    "\n",
    "或者我们也可以从另一个角度考虑：条件概率。 我们假设X为预测值，Y为真实值。那么就可以将这些指标按条件概率表示：\n",
    "\n",
    "精准率 = P（Y=1 | X=1）\n",
    "\n",
    "召回率 = 灵敏度 = P（X=1 | Y=1）\n",
    "\n",
    "特异度 = P（X=0 | Y=0）\n",
    "\n",
    "从上面三个公式看到：如果我们先以实际结果为条件（召回率，特异度），那么就只需考虑一种样本，而先以预测值为条件（精准率），那么我们需要同时考虑正样本和负样本。所以先以实际结果为条件的指标都不受样本不平衡的影响，相反以预测结果为条件的就会受到影响。\n",
    "\n",
    "**ROC（接受者操作特征曲线）**\n",
    "\n",
    "> ROC（Receiver Operating Characteristic）曲线，又称接受者操作特征曲线。该曲线最早应用于雷达信号检测领域，用于区分信号与噪声。后来人们将其用于评价模型的预测能力，ROC 曲线是基于混淆矩阵得出的。\n",
    "\n",
    "ROC 曲线中的主要两个指标就是真正率和假正率， 上面也解释了这么选择的好处所在。其中横坐标为假正率（FPR），纵坐标为真正率（TPR），下面就是一个标准的 ROC 曲线图。\n",
    "\n",
    "![](./image/ROC.png)\n",
    "\n",
    "**ROC 曲线的阈值问题**\n",
    "与前面的 P-R 曲线类似，ROC 曲线也是通过遍历所有阈值 来绘制整条曲线的。如果我们不断的遍历所有阈值，预测的正样本和负样本是在不断变化的，相应的在 ROC 曲线图中也会沿着曲线滑动。\n",
    "\n",
    "![](./image/ROCm.gif)\n",
    "\n",
    "**如何判断 ROC 曲线的好坏？**\n",
    "\n",
    "改变阈值只是不断地改变预测的正负样本数，即 TPR 和 FPR，但是曲线本身是不会变的。那么如何判断一个模型的 ROC 曲线是好的呢？这个还是要回归到我们的目的：FPR 表示模型虚报的响应程度，而 TPR 表示模型预测响应的覆盖程度。我们所希望的当然是：虚报的越少越好，覆盖的越多越好。所以总结一下就是TPR 越高，同时 FPR 越低（即 ROC 曲线越陡），那么模型的性能就越好。 参考如下：\n",
    "\n",
    "![](./image/ROCm2.gif)\n",
    "\n",
    "**ROC 曲线无视样本不平衡**\n",
    "\n",
    "前面已经对 ROC 曲线为什么可以无视样本不平衡做了解释，下面我们用动态图的形式再次展示一下它是如何工作的。我们发现：无论红蓝色样本比例如何改变，ROC 曲线都没有影响。\n",
    "\n",
    "![](./image/ROCm3.gif)\n",
    "\n",
    "**AUC（曲线下的面积）**\n",
    "\n",
    "为了计算 ROC 曲线上的点，我们可以使用不同的分类阈值多次评估逻辑回归模型，但这样做效率非常低。幸运的是，有一种基于排序的高效算法可以为我们提供此类信息，这种算法称为曲线下面积（Area Under Curve）。\n",
    "\n",
    "比较有意思的是，如果我们连接对角线，它的面积正好是 0.5。对角线的实际含义是：随机判断响应与不响应，正负样本覆盖率应该都是 50%，表示随机效果。 ROC 曲线越陡越好，所以理想值就是 1，一个正方形，而最差的随机判断都有 0.5，所以一般 AUC 的值是介于 0.5 到 1 之间的。\n",
    "\n",
    "AUC 的一般判断标准\n",
    "\n",
    "0.5–0.7： 效果较低，但用于预测股票已经很不错了\n",
    "\n",
    "0.7–0.85： 效果一般\n",
    "\n",
    "0.85–0.95： 效果很好\n",
    "\n",
    "0.95–1： 效果非常好，但一般不太可能\n",
    "\n",
    "**AUC 的物理意义**\n",
    "\n",
    "曲线下面积对所有可能的分类阈值的效果进行综合衡量。曲线下面积的一种解读方式是看作模型将某个随机正类别样本排列在某个随机负类别样本之上的概率。以下面的样本为例，逻辑回归预测从左到右以升序排列\n",
    "\n",
    "\n",
    "![](./image/image4-1.png)\n",
    "\n",
    "这里的 ROC 曲线（图 4-1）指\n",
    "的是横轴为假阳性率（即 FP 的占比），纵轴为真阳性率（即 TP 的占比）的图形。图中显示了当预\n",
    "测数据为阳性的预测概率的阈值从 1 开始逐渐下降时，FP 和 TP 之间关系的变化。\n",
    "假阳性率、真阳性率是可视化 ROC 曲线的必要条件，可以使用 roc_curve 函数计算。"
   ]
  },
  {
   "cell_type": "code",
   "execution_count": 13,
   "id": "95531deb-9ba7-4dfe-a62c-215c3a2bd3e8",
   "metadata": {},
   "outputs": [],
   "source": [
    "from sklearn.metrics import roc_curve\n",
    "probas = model_lor.predict_proba(X)\n",
    "fpr, tpr, thresholds = roc_curve(y, probas[:, 1])"
   ]
  },
  {
   "cell_type": "markdown",
   "id": "0817cbdb-d056-49c4-b5e6-2f4557bc6478",
   "metadata": {},
   "source": [
    "roc_curve 函数的输入是目标变量（类别标签数据）和预测概率。这里使用 predict_\n",
    "proba 方法计算了预测概率。下面在 Matplotlib 中对 roc_curve 函数输出的 fpr 和 tpr 进行可\n",
    "视化。"
   ]
  },
  {
   "cell_type": "code",
   "execution_count": 14,
   "id": "673150c8-b70d-445d-920d-91b4de426bd2",
   "metadata": {},
   "outputs": [
    {
     "data": {
      "image/png": "[encoded data removed]",
      "text/plain": [
       "<Figure size 480x500 with 1 Axes>"
      ]
     },
     "metadata": {},
     "output_type": "display_data"
    }
   ],
   "source": [
    "%matplotlib inline\n",
    "import matplotlib.pyplot as plt\n",
    "plt.style.use('fivethirtyeight')\n",
    "fig, ax = plt.subplots()\n",
    "fig.set_size_inches(4.8, 5)\n",
    "ax.step(fpr, tpr, 'gray')\n",
    "ax.fill_between(fpr, tpr, 0, color='skyblue', alpha=0.8)\n",
    "ax.set_xlabel('False Positive Rate')\n",
    "ax.set_ylabel('True Positive Rate')\n",
    "ax.set_facecolor('xkcd:white')\n",
    "plt.show()"
   ]
  },
  {
   "cell_type": "markdown",
   "id": "dc0fdd85-10bf-4878-98a8-22668f29219b",
   "metadata": {},
   "source": [
    "ROC 曲线下方的面积是 AUC。面积的最大值是 1，最小值是 0。AUC 越接近于 1（面积越大），\n",
    "说明精度越高；如果其值在 0.5 左右，则说明预测不够理想。换言之，如果值在 0.5 左右，则得到\n",
    "的分类模型和抛硬币随机决定良性恶性没多大区别。\n",
    "roc_auc_score 函数用于计算 AUC 值。"
   ]
  },
  {
   "cell_type": "code",
   "execution_count": 15,
   "id": "9114a074-efd8-4cf0-b5ac-1eac65817e3b",
   "metadata": {},
   "outputs": [
    {
     "data": {
      "text/plain": [
       "0.9741028486866444"
      ]
     },
     "execution_count": 15,
     "metadata": {},
     "output_type": "execute_result"
    }
   ],
   "source": [
    "from sklearn.metrics import roc_auc_score\n",
    "roc_auc_score(y, probas[:, 1])"
   ]
  },
  {
   "cell_type": "markdown",
   "id": "fa477960-18ea-4571-a798-ec227a2603cd",
   "metadata": {},
   "source": [
    "AUC 的结果约为 0.977，接近于 1。对于一个分类模型来说，这样的精度是很高的。\n",
    "由于乳腺癌的数据偏差不大，所以用正确率来考查模型的性能也没有太大问题。不过如果输入\n",
    "数据为关于“观看网站广告的用户中有多少会购买商品”的预测数据，那么正例和反例的数量可能\n",
    "有相当大的偏差，常常出现正确率为 0.99，但 AUC 只有 0.6 的情况。在处理不均衡数据时，我们使\n",
    "用 AUC 作为指标。"
   ]
  },
  {
   "cell_type": "markdown",
   "id": "d5796ae0-9f71-44f2-9573-871f2c480bd3",
   "metadata": {},
   "source": [
    "#### 回归问题的评估方法\n"
   ]
  },
  {
   "cell_type": "markdown",
   "id": "bc0fbbe5-38b8-465d-a9ce-bd342db105de",
   "metadata": {},
   "source": [
    "接下来介绍回归问题的评估方法。由于回归问题的目标是预测大小关系有意义的值，所以有些\n",
    "评估方法和分类问题的评估方法不同。这里使用的数据是美国波士顿的房价数据集。这个数据集有\n",
    "13 个特征变量，目标变量是 5.0 ～ 50.0 的数值。简单起见，这里介绍一元回归的评估方法，所以我\n",
    "们只使用 13 个特征变量中的“住宅平均房间数”（列名为 RM）。"
   ]
  },
  {
   "cell_type": "code",
   "execution_count": null,
   "id": "a9bb0e14-abab-4a4c-82ba-0c08c7f24dcb",
   "metadata": {},
   "outputs": [],
   "source": [
    "from sklearn.datasets import load_boston\n",
    "data = load_boston()\n",
    "X = data.data[:, [5,]]\n",
    "y = data.target"
   ]
  },
  {
   "cell_type": "markdown",
   "id": "352627d0-a072-4525-aea5-0ac23d483367",
   "metadata": {},
   "source": [
    "这里设从数据集中的特征变量选择的平均房间数的列为 X，目标变量为 y。虽然特征变量 X 是\n",
    "由一列组成的数据，但这里也按照惯例使用大写的 X。目标变量 y 是数值数据。X 是 506 行 1 列的\n",
    "数据，y 也是 506 行 1 列的数据。"
   ]
  },
  {
   "cell_type": "code",
   "execution_count": null,
   "id": "ee4daf00-cffc-4b19-9f4b-b7dede6f16b4",
   "metadata": {},
   "outputs": [],
   "source": [
    "from sklearn.linear_model import LinearRegression\n",
    "model_lir = LinearRegression()\n",
    "model_lir.fit(X, y)\n",
    "y_pred = model_lir.predict(X)"
   ]
  },
  {
   "cell_type": "markdown",
   "id": "8b577788-8dd6-4088-9789-86cf03a80264",
   "metadata": {},
   "source": [
    "上面的代码导入并使用了 LinearRegression 类，然后初始化 model_lir，使用 fit 方法\n",
    "进行训练。接着，代码使用训练好的 model_lir 的 predict 方法进行预测，并将预测结果赋给\n",
    "变量 y_pred。\n",
    "本次使用的 LinearRegression 是一种线性回归算法。另外，由于特征变量是 1 列数据，所\n",
    "以模型可以使用线性方程 y = ax + b 表示。现在看一下斜率 a 和截距 b 的值。"
   ]
  },
  {
   "cell_type": "code",
   "execution_count": null,
   "id": "fc268417-4eb1-4ea6-8c78-0fac517b187a",
   "metadata": {},
   "outputs": [],
   "source": [
    "print(model_lir.coef_)\n",
    "print(model_lir.intercept_)"
   ]
  },
  {
   "cell_type": "markdown",
   "id": "6cb65599-130e-4da4-9803-621d257d0f29",
   "metadata": {},
   "source": [
    "斜率 a 约为 9.10,截距 b 约为 -34.67,所以本次训练的模型可以表示为直线 y = 9.10x - 34.67。\n",
    "当房间数为 5 时，将其代入该式，有 9.10×5 - 34.67，可以得到预测租金为 10.83。线性回归利用训\n",
    "练数据确定学习参数 a 和 b。随着训练数据的增减，这些学习参数会变为不同的值。\n",
    "接下来绘制预测结果的图形，来看一下训练好的模型是如何预测的。由于这次是基于一个特征\n",
    "变量（平均房间数）对目标变量（租金）进行预测的，所以我们可以绘制一个横轴为平均房间数，\n",
    "纵轴为租金的图形。\n",
    "下面使用 Matplotlib 查看数据。"
   ]
  },
  {
   "cell_type": "code",
   "execution_count": null,
   "id": "0c391f2b-363e-4d4c-9f33-76b402b7c84f",
   "metadata": {},
   "outputs": [],
   "source": [
    "%matplotlib inline\n",
    "import matplotlib.pyplot as plt\n",
    "fig, ax = plt.subplots()\n",
    "ax.scatter(X, y, color='pink', marker='s', label='data set')\n",
    "ax.plot(X, y_pred, color='blue', label='LinearRegression')\n",
    "ax.legend()\n",
    "plt.show()"
   ]
  },
  {
   "cell_type": "markdown",
   "id": "603f5605-57ae-478e-b6f2-c64fc0b4d4be",
   "metadata": {},
   "source": [
    "图 4-2 中数据集的颜色是粉红色。从粉红色的数据来看，图形的右上角包含了离群值（在图形\n",
    "顶部绘制的纵轴值为 50 的数据）。蓝线代表预测结果，与数据基本一致。这是一个预测房价会随着\n",
    "房间数量的增加而上涨的一次函数。通过可视化，我们能够大致了解学习结果。接下来使用均方误\n",
    "差和决定系数这两个指标来量化学习结果。\n",
    "\n",
    "![](image/image4-2.png)"
   ]
  },
  {
   "cell_type": "markdown",
   "id": "c5ff36de-ddb6-4360-8cf3-dcf7ce1b6aef",
   "metadata": {},
   "source": [
    "### 均方误差\n",
    "平方误差是一个表示实际值和预测值之间存在多大差异的数值。下面结合例子来说明，请看\n",
    "图 4-3。\n",
    "\n",
    "![](image/image4-3.png)\n",
    "\n",
    "图中的直线表示预测值，直线上有以 × 标记的点 和 。从每个点出发，分别朝着表示预测\n",
    "值的直线画一条线段作为辅助线，辅助线的长度就是误差。\n",
    "从图中可以看出，1\n",
    "比2\n",
    "离预测值更远。也就是说，2\n",
    "更接近预测值，误差更小。对于要评\n",
    "估的数据，计算所有预测值与数据之间的误差的平方，并取平方的平均值，得到的就是均方误差\n",
    "（Mean-Square Error，MSE）。换言之，均方误差越小，预测效果越好。我们可以使用 scikit-learn 提\n",
    "供的 mean_squared_error 函数计算均方误差。"
   ]
  },
  {
   "cell_type": "code",
   "execution_count": null,
   "id": "314a7a72-f2e7-412f-9fc6-fec6ac7890c3",
   "metadata": {},
   "outputs": [],
   "source": [
    "from sklearn.metrics import mean_squared_error\n",
    "mean_squared_error(y, y_pred)"
   ]
  },
  {
   "cell_type": "markdown",
   "id": "c4488166-85b3-40de-ba93-1648d61b5e2a",
   "metadata": {},
   "source": [
    "均方误差约为 43.6。"
   ]
  },
  {
   "cell_type": "markdown",
   "id": "74d51c9b-3c9c-4890-89b7-515c9e7013ab",
   "metadata": {},
   "source": [
    "### 决定系数\n",
    "**决定系数**（coefficient of determination）是使用均方误差来表示训练好的模型的预测效果的数\n",
    "值，也就是被称为 R 2 的系数。\n",
    "当该系数取最大值 1.0 时，说明没有误差。它的值通常在 0.0 和 1.0 之间，但如果预测的误差过\n",
    "大，也可能为负值。换言之，该系数的值越接近 1.0，说明模型对数据点的解释能力越强。我们可\n",
    "以使用 r2_score 函数计算决定系数。"
   ]
  },
  {
   "cell_type": "code",
   "execution_count": null,
   "id": "66502677-fe0e-4f3f-90c2-b3d15e0e327b",
   "metadata": {},
   "outputs": [],
   "source": [
    "from sklearn.metrics import r2_score\n",
    "r2_score(y, y_pred)"
   ]
  },
  {
   "cell_type": "markdown",
   "id": "948f9601-499a-49f4-90b4-5d0e0b51ac11",
   "metadata": {},
   "source": [
    "决定系数约为 0.484。"
   ]
  },
  {
   "cell_type": "markdown",
   "id": "d7282774-0288-4c63-a13c-85322a4c583a",
   "metadata": {},
   "source": [
    "### 均方误差和决定系数指标的不同\n",
    "前面解释了如何使用均方误差和决定系数两个指标评估回归问题。光看均方误差的数值不能判\n",
    "断精度是好还是坏。如果目标变量的方差较大，均方误差也会变大。而决定系数可以使用不依赖于\n",
    "目标变量方差的取值范围在 0.0 和 1.0 之间的值表示，所以即使目标变量的数量级不同，也可以将\n",
    "决定系数作为一般的指标使用。"
   ]
  },
  {
   "cell_type": "markdown",
   "id": "110d1d2d-d49d-4dda-a52b-1bee95147653",
   "metadata": {},
   "source": [
    "### 与其他算法进行比较\n",
    "前面使用 LinearRegression 介绍了均方误差和决定系数，我们再来看一下使用其他算法的\n",
    "情况。下面使用 SVR 进行回归，并与使用 LinearRegression 时的情况进行比较。\n",
    "SVR 是将第 2 章介绍的支持向量机（核方法）应用于回归而得到的算法。"
   ]
  },
  {
   "cell_type": "code",
   "execution_count": null,
   "id": "746e0294-a524-4ef0-b699-578886590929",
   "metadata": {},
   "outputs": [],
   "source": [
    "from sklearn.svm import SVR\n",
    "model_svr_linear = SVR(C=0.01, kernel='linear')\n",
    "model_svr_linear.fit(X, y)\n",
    "y_svr_pred = model_svr_linear.predict(X)"
   ]
  },
  {
   "cell_type": "markdown",
   "id": "5103d6d2-56d5-457a-8fb2-1d8d9acf4456",
   "metadata": {},
   "source": [
    "上面的代码导入了 SVR 类，用于训练和预测。下面在图 4-4 中查看使用 LinearRegression\n",
    "和 SVR 时的学习结果。"
   ]
  },
  {
   "cell_type": "code",
   "execution_count": null,
   "id": "5c95ce69-2829-4537-97bf-072987be6b0d",
   "metadata": {},
   "outputs": [],
   "source": [
    "%matplotlib inline\n",
    "import matplotlib.pyplot as plt\n",
    "fig, ax = plt.subplots()\n",
    "ax.scatter(X, y, color='pink', marker='s', label='data set')\n",
    "ax.plot(X, y_pred, color='blue', label='LinearRegression')\n",
    "ax.plot(X, y_svr_pred, color='red', label='SVR')\n",
    "ax.legend()\n",
    "plt.show()"
   ]
  },
  {
   "cell_type": "markdown",
   "id": "fe45e8d2-d32b-49a6-afa2-f832fd744bbd",
   "metadata": {},
   "source": [
    "![](./image/image4-4.png)"
   ]
  },
  {
   "cell_type": "markdown",
   "id": "f2cef014-0319-45c2-98b7-b6f4b2114d76",
   "metadata": {},
   "source": [
    "蓝线表示 LinearRegression，红线表示 SVR。从图中可以看出，SVR 的线和数据不太一\n",
    "致。下面看一下均方误差和决定系数的值。"
   ]
  },
  {
   "cell_type": "code",
   "execution_count": null,
   "id": "fadc4c7d-71e9-4094-b400-8f81543d5faf",
   "metadata": {},
   "outputs": [],
   "source": [
    "print(mean_squared_error(y, y_svr_pred))\n",
    "print(r2_score(y, y_svr_pred))\n",
    "print(model_svr_linear.coef_)\n",
    "# 决定系数\n",
    "# 斜率\n",
    "print(model_svr_linear.intercept_)\n",
    "# 截距"
   ]
  },
  {
   "cell_type": "markdown",
   "id": "5cc8eeb1-1f31-487a-81aa-6e3273492951",
   "metadata": {},
   "source": [
    "结果依次是均方误差、决定系数、斜率和截距。LinearRegression 的均方误差和决定系数\n",
    "分别约为 43.6 和 0.484，与之相比，SVR 的均方误差和决定系数都变差了，分别约为 72.1 和 0.145。\n",
    "经过比较，我们发现 LinearRegression 的各个指标的值都更好。\n",
    "通过均方误差和决定系数，我们能够对模型进行定量评估。这个结果可能会给人以 SVR 不是\n",
    "一个好算法的印象。其实通过改变 SVR 的 C 和 kernel 参数，就可以改善 SVR 的均方误差和决定\n",
    "系数。"
   ]
  },
  {
   "cell_type": "markdown",
   "id": "b7ebbad6-2ddd-457b-a8ae-68470d937be6",
   "metadata": {},
   "source": [
    "### 超参数的设置\n",
    "下面将初始化 SVR 时的参数变更为 C = 1.0, kernel = 'rbf'。"
   ]
  },
  {
   "cell_type": "code",
   "execution_count": null,
   "id": "f16bee56-2fba-4888-b331-6c61f59e40c7",
   "metadata": {},
   "outputs": [],
   "source": [
    "model_svr_rbf = SVR(C=1.0, kernel='rbf')\n",
    "model_svr_rbf.fit(X, y)\n",
    "y_svr_pred = model_svr_rbf.predict(X)\n",
    "print(mean_squared_error(y, y_svr_pred))\n",
    "print(r2_score(y, y_svr_pred))\n",
    "# 决定系数\n",
    "# 均方误差"
   ]
  },
  {
   "cell_type": "markdown",
   "id": "0bfc3c82-88b2-4700-aa99-6c136110cb04",
   "metadata": {},
   "source": [
    "可以看出，均方误差和决定系数都得到了改善。C 和 kernel 是 SVR 的超参数。model_svr_\n",
    "rbf.coef_ 和 model_svr_rbf.intercept_ 等学习参数是由机器学习算法更新的，而超参数\n",
    "需要在训练开始前由用户给出。因此，如果超参数设置得不好，模型的性能就可能会很差。"
   ]
  },
  {
   "cell_type": "markdown",
   "id": "d9af4b96-0e30-441b-a9b7-3eb1823f2c63",
   "metadata": {},
   "source": [
    "### 模型的过拟合\n",
    "下面来看一下模型的过拟合。\n",
    "使用以下代码将数据集分为训练数据和用来确认性能的验证数据，然后进行 S V R 的训练和\n",
    "预测。"
   ]
  },
  {
   "cell_type": "code",
   "execution_count": null,
   "id": "32c1dda5-d688-466d-a68d-9e1c20376bed",
   "metadata": {},
   "outputs": [],
   "source": [
    "train_X, test_X = X[:400], X[400:]\n",
    "train_y, test_y = y[:400], y[400:]\n",
    "model_svr_rbf_1 = SVR(C=1.0, kernel='rbf')\n",
    "model_svr_rbf_1.fit(train_X, train_y)\n",
    "test_y_pred = model_svr_rbf_1.predict(test_X)\n",
    "print(mean_squared_error(test_y, test_y_pred))\n",
    "print(r2_score(test_y, test_y_pred))\n",
    "# 决定系数\n",
    "# 均方误差"
   ]
  },
  {
   "cell_type": "markdown",
   "id": "c036a0b7-3770-46ba-b222-4b9202848ef1",
   "metadata": {},
   "source": [
    "虽然超参数没有变过，但模型在验证数据上的表现远差于在训练数据上的表现。这种对训练数\n",
    "据的预测效果很好，但对验证数据（没有用于训练的数据）的预测效果不好的现象叫作过拟合。\n",
    "在有监督学习中，防止过拟合是一个重要课题。仅仅考查之前介绍的各指标，并不足以判断模\n",
    "型的好坏。重要的是在解决实际问题时，模型对未知数据的预测精度。模型对这种未知数据的预测\n",
    "能力叫作泛化能力。即使模型对训练数据的均方误差很小，如果发生过拟合，泛化能力也会很低。\n",
    "过拟合和超参数的设置是分类问题和回归问题的共同挑战。接下来本书将讨论如何应对这些\n",
    "挑战。"
   ]
  },
  {
   "cell_type": "markdown",
   "id": "5931d9e6-4d92-4ba1-a8d6-e6ea72376a03",
   "metadata": {},
   "source": [
    "### 防止过拟合的方法\n",
    "有监督学习的特征值和目标变量是作为训练数据预先给出的。前面介绍了对训练数据的性能评\n",
    "估方法。但在使用有监督学习解决实际问题时，除了评估模型对训练数据的性能之外，评估模型对\n",
    "不包括在训练数据中的数据（未知数据）的性能也是非常重要的。以乳腺癌数据集为例，“患者的身体数据”（特征）和“恶性 / 良性”（目标变量）是训练数据。\n",
    "在实际应用中，对于“恶性 / 良性”不明的患者，重要的是能否通过患者的体检数据预测出\n",
    "“恶性 / 良性”\n",
    "。一个模型如果对训练数据的预测精度很高，但对未知数据不能进行很好的预测，那\n",
    "就不能说它是一个好模型。防止过拟合的方法有几种，以下是一些有代表性的方法。"
   ]
  },
  {
   "cell_type": "markdown",
   "id": "243903c1-b26a-43c0-9816-6eca3a31b784",
   "metadata": {},
   "source": [
    "### 将数据分为训练数据和验证数据\n",
    "防止过拟合的一个代表性的方法是将数据分为训练数据和验证数据。换言之，这种方法不使用\n",
    "事先给定的所有数据进行训练，而是留出一部分数据用于验证，不用于训练。\n",
    "使用 scikit-learn 的 train_test_split 函数，我们可以很容易地分割数据。"
   ]
  },
  {
   "cell_type": "code",
   "execution_count": 2,
   "id": "18566aa0-9f9e-492e-85df-44153eec3f04",
   "metadata": {},
   "outputs": [],
   "source": [
    "from sklearn.datasets import load_breast_cancer\n",
    "data = load_breast_cancer()\n",
    "X = data.data\n",
    "y = data.target\n",
    "from sklearn.model_selection import train_test_split\n",
    "X_train, X_test, y_train, y_test = train_test_split(X, y, test_size=0.3)"
   ]
  },
  {
   "cell_type": "markdown",
   "id": "3ffd3b6e-f5df-4b36-b013-41ee04619313",
   "metadata": {},
   "source": [
    "- 训练用的特征值： X_train\n",
    "- 验证用的特征值： X_test\n",
    "- 训练用的目标变量： y_train\n",
    "- 验证用的目标变量： y_test\n",
    "我们将数据分为训练数据和验证数据，其中 70% 用于训练，30% 用于验证（图 4-5）。这个分\n",
    "割比例设为多少是没有明确规定的。如果数据集很大，有足够的数据用于训练，将分割比例设置为\n",
    "6∶4 也是可行的；反之，如果数据集太小，不能很好地进行训练，可以将分割比例设置为 8∶2 等。\n",
    "另外要注意的是，每次运行时 train_test_split 的结果都是不同的，如果想保持结果固定，需\n",
    "要设置 random_state 参数。\n",
    "![](./image/image4-5.png)\n",
    "下面使用训练数据和验证数据来进行算法的学习，并创建模型。"
   ]
  },
  {
   "cell_type": "code",
   "execution_count": 5,
   "id": "4302faba-9db4-4be5-9cc3-85e3d58401d0",
   "metadata": {},
   "outputs": [
    {
     "name": "stdout",
     "output_type": "stream",
     "text": [
      "0.9195979899497487\n",
      "0.9239766081871345\n"
     ]
    }
   ],
   "source": [
    "from sklearn.svm import SVC\n",
    "model_svc = SVC()\n",
    "model_svc.fit(X_train, y_train)\n",
    "y_train_pred = model_svc.predict(X_train)\n",
    "y_test_pred = model_svc.predict(X_test)\n",
    "from sklearn.metrics import accuracy_score\n",
    "print(accuracy_score(y_train, y_train_pred))\n",
    "print(accuracy_score(y_test, y_test_pred))"
   ]
  },
  {
   "cell_type": "markdown",
   "id": "f59d3f7f-317f-4acf-9025-d1f7e2140eec",
   "metadata": {},
   "source": [
    "如果与对训练数据的正确率相比，对验证数据的正确率要低很多，就说明数据发生了过拟合。上\n",
    "面代码中的模型对未知数据的正确率约为 60%。下面使用另一个模型 RandomForestClassifier\n",
    "来试一下。"
   ]
  },
  {
   "cell_type": "code",
   "execution_count": 3,
   "id": "9a1c43f6-adca-42ef-adcc-ba815ebd65be",
   "metadata": {},
   "outputs": [
    {
     "name": "stdout",
     "output_type": "stream",
     "text": [
      "1.0\n",
      "0.9649122807017544\n"
     ]
    }
   ],
   "source": [
    "from sklearn.ensemble import RandomForestClassifier\n",
    "model_rfc = RandomForestClassifier()\n",
    "model_rfc.fit(X_train, y_train)\n",
    "y_train_pred = model_rfc.predict(X_train)\n",
    "y_test_pred = model_rfc.predict(X_test)\n",
    "from sklearn.metrics import accuracy_score\n",
    "print(accuracy_score(y_train, y_train_pred))\n",
    "print(accuracy_score(y_test, y_test_pred))"
   ]
  },
  {
   "cell_type": "markdown",
   "id": "894deb0d-2708-412b-a04b-b4a72decac29",
   "metadata": {},
   "source": [
    "这次虽然对验证数据的正确率依然比对训练数据的低，却是约为 96% 的高正确率。由于模型\n",
    "对验证数据的正确率也很高，所以可以说防止了过拟合。\n",
    "从这些模型的结果来看，也许我们应该使用 RandomForestClassifier。在选择模型时，\n",
    "如果没有分割数据，只看对训练数据的正确率，我们可能会选择 SVC。通过观察对验证数据的正确\n",
    "率，我们能够避免使用出现了过拟合的模型。"
   ]
  },
  {
   "cell_type": "markdown",
   "id": "306d6113-ca62-4b2b-8edb-82a88ba90f4d",
   "metadata": {},
   "source": [
    "### 交叉验证\n",
    "即使在将数据分为训练数据和验证数据后进行评估，也依然可能发生过拟合。可以想到的原因是使用的训练数据和验证数据碰巧非常相似。反过来也有可能出现训练数据和验证数据非常不相似\n",
    "的情况。为了避免这种数据分割的误差，可以使用不同的分割方案进行多次验证，这就是所谓的交\n",
    "叉验证（cross validation）。\n",
    "本节以将数据分割 5 次，其中 80% 的数据用于训练，20% 的数据用于验证的情况为例进行说明。\n",
    "如图 4-6 所示，每次获取不同的 20% 的数据作为验证数据，重复 5 次。在这个例子中，20%\n",
    "的数据是按分组顺序分别分割的，但在实际应用中，作为验证数据的 20% 的数据是随机抽取的。\n",
    "\n",
    "![](image/image4-6.png)\n",
    "\n",
    "以下代码非常轻松地将数据分成了 5 块，即运行 5 次，每次留下 20% 的数据用于训练后的验证。"
   ]
  },
  {
   "cell_type": "code",
   "execution_count": 7,
   "id": "786f2876-8bd9-45e5-ad9c-2aef7254d4cd",
   "metadata": {},
   "outputs": [
    {
     "data": {
      "text/plain": [
       "array([0.99122807, 0.96491228, 0.92982456, 0.97368421, 0.95575221])"
      ]
     },
     "execution_count": 7,
     "metadata": {},
     "output_type": "execute_result"
    }
   ],
   "source": [
    "from sklearn.model_selection import cross_val_score\n",
    "from sklearn.model_selection import KFold\n",
    "cv = KFold(5, shuffle=True)\n",
    "model_rfc_1 = RandomForestClassifier()\n",
    "cross_val_score(model_rfc_1, X, y, cv=cv, scoring='accuracy')"
   ]
  },
  {
   "cell_type": "markdown",
   "id": "9eb3f0ef-552e-4f0d-839d-61126f590cc4",
   "metadata": {},
   "source": [
    "这时正确率会被输出 5 次。我们可以看到正确率有时很高，有时很低。在选择模型时，需要考\n",
    "虑所有正确率的均值和方差。\n",
    "另外，我们也可以输出 F 值的评估结果。\n",
    "通过将 cross_val_score 函数的 scoring 参数定义为 f1，就可以输出 F 值，代码如下\n",
    "所示。"
   ]
  },
  {
   "cell_type": "code",
   "execution_count": null,
   "id": "d2d92fd8-994d-4190-8367-3061142ba498",
   "metadata": {},
   "outputs": [],
   "source": [
    "cross_val_score(model_rfc_1, X, y, cv=cv, scoring=\"f1\")"
   ]
  },
  {
   "cell_type": "markdown",
   "id": "fafd0456-448b-4014-8efa-bc740e7b8c18",
   "metadata": {},
   "source": [
    "### 搜索超参数\n",
    "前面介绍了如何使用分割得到的数据来选择不会出现过拟合的模型。如果在此基础上仔细地\n",
    "选择超参数，就可以进一步提高模型的性能。就像前面在“超参数的设置”部分介绍的那样，通过\n",
    "反复设置一个超参数并检查其性能，最终可以得到更好的超参数。但是多个超参数的组合数量非常\n",
    "多，逐一设置每个超参数的过程非常耗时。\n",
    "本节将介绍搜索超参数的方法。\n",
    "#### 使用网格搜索选择超参数\n",
    "网格搜索是一种自动搜索超参数的方法。如图 4-7\n",
    "所示，这是一种对各个超参数组合进行穷尽搜索的方法。\n",
    "需要注意的是，要搜索的超参数必须事先确定。\n",
    "下 面 是 使 用 scikit-learn 的 GridSearchCV 进 行\n",
    "RandomForestClassifier 超参数搜索的示例代码。\n",
    "GridSearchCV 一边关注对验证数据的性能，一边执行\n",
    "超参数的搜索。\n",
    "首先加载数据。这里要做的是对分类任务进行网格搜索，所以要重新加载美国威斯康星州乳腺癌数据集。\n",
    "\n",
    "![](./image/image4-7.png)"
   ]
  },
  {
   "cell_type": "code",
   "execution_count": 8,
   "id": "dbc53502-6eca-4530-a933-fedd1f263a2f",
   "metadata": {},
   "outputs": [],
   "source": [
    "from sklearn.datasets import load_breast_cancer\n",
    "data = load_breast_cancer()\n",
    "X = data.data\n",
    "y = 1 - data.target\n",
    "# 反转标签的0和1\n",
    "X = X[:, :10]"
   ]
  },
  {
   "cell_type": "markdown",
   "id": "498c5980-3a87-479e-b246-75cbe36b07d9",
   "metadata": {},
   "source": [
    "接下来进行网格搜索。"
   ]
  },
  {
   "cell_type": "code",
   "execution_count": 9,
   "id": "6ee5ea23-ad97-4f27-98a8-b2b0d3b253f7",
   "metadata": {},
   "outputs": [
    {
     "data": {
      "text/html": [
       "<style>#sk-container-id-1 {color: black;background-color: white;}#sk-container-id-1 pre{padding: 0;}#sk-container-id-1 div.sk-toggleable {background-color: white;}#sk-container-id-1 label.sk-toggleable__label {cursor: pointer;display: block;width: 100%;margin-bottom: 0;padding: 0.3em;box-sizing: border-box;text-align: center;}#sk-container-id-1 label.sk-toggleable__label-arrow:before {content: \"▸\";float: left;margin-right: 0.25em;color: #696969;}#sk-container-id-1 label.sk-toggleable__label-arrow:hover:before {color: black;}#sk-container-id-1 div.sk-estimator:hover label.sk-toggleable__label-arrow:before {color: black;}#sk-container-id-1 div.sk-toggleable__content {max-height: 0;max-width: 0;overflow: hidden;text-align: left;background-color: #f0f8ff;}#sk-container-id-1 div.sk-toggleable__content pre {margin: 0.2em;color: black;border-radius: 0.25em;background-color: #f0f8ff;}#sk-container-id-1 input.sk-toggleable__control:checked~div.sk-toggleable__content {max-height: 200px;max-width: 100%;overflow: auto;}#sk-container-id-1 input.sk-toggleable__control:checked~label.sk-toggleable__label-arrow:before {content: \"▾\";}#sk-container-id-1 div.sk-estimator input.sk-toggleable__control:checked~label.sk-toggleable__label {background-color: #d4ebff;}#sk-container-id-1 div.sk-label input.sk-toggleable__control:checked~label.sk-toggleable__label {background-color: #d4ebff;}#sk-container-id-1 input.sk-hidden--visually {border: 0;clip: rect(1px 1px 1px 1px);clip: rect(1px, 1px, 1px, 1px);height: 1px;margin: -1px;overflow: hidden;padding: 0;position: absolute;width: 1px;}#sk-container-id-1 div.sk-estimator {font-family: monospace;background-color: #f0f8ff;border: 1px dotted black;border-radius: 0.25em;box-sizing: border-box;margin-bottom: 0.5em;}#sk-container-id-1 div.sk-estimator:hover {background-color: #d4ebff;}#sk-container-id-1 div.sk-parallel-item::after {content: \"\";width: 100%;border-bottom: 1px solid gray;flex-grow: 1;}#sk-container-id-1 div.sk-label:hover label.sk-toggleable__label {background-color: #d4ebff;}#sk-container-id-1 div.sk-serial::before {content: \"\";position: absolute;border-left: 1px solid gray;box-sizing: border-box;top: 0;bottom: 0;left: 50%;z-index: 0;}#sk-container-id-1 div.sk-serial {display: flex;flex-direction: column;align-items: center;background-color: white;padding-right: 0.2em;padding-left: 0.2em;position: relative;}#sk-container-id-1 div.sk-item {position: relative;z-index: 1;}#sk-container-id-1 div.sk-parallel {display: flex;align-items: stretch;justify-content: center;background-color: white;position: relative;}#sk-container-id-1 div.sk-item::before, #sk-container-id-1 div.sk-parallel-item::before {content: \"\";position: absolute;border-left: 1px solid gray;box-sizing: border-box;top: 0;bottom: 0;left: 50%;z-index: -1;}#sk-container-id-1 div.sk-parallel-item {display: flex;flex-direction: column;z-index: 1;position: relative;background-color: white;}#sk-container-id-1 div.sk-parallel-item:first-child::after {align-self: flex-end;width: 50%;}#sk-container-id-1 div.sk-parallel-item:last-child::after {align-self: flex-start;width: 50%;}#sk-container-id-1 div.sk-parallel-item:only-child::after {width: 0;}#sk-container-id-1 div.sk-dashed-wrapped {border: 1px dashed gray;margin: 0 0.4em 0.5em 0.4em;box-sizing: border-box;padding-bottom: 0.4em;background-color: white;}#sk-container-id-1 div.sk-label label {font-family: monospace;font-weight: bold;display: inline-block;line-height: 1.2em;}#sk-container-id-1 div.sk-label-container {text-align: center;}#sk-container-id-1 div.sk-container {/* jupyter's `normalize.less` sets `[hidden] { display: none; }` but bootstrap.min.css set `[hidden] { display: none !important; }` so we also need the `!important` here to be able to override the default hidden behavior on the sphinx rendered scikit-learn.org. See: https://github.com/scikit-learn/scikit-learn/issues/21755 */display: inline-block !important;position: relative;}#sk-container-id-1 div.sk-text-repr-fallback {display: none;}</style><div id=\"sk-container-id-1\" class=\"sk-top-container\"><div class=\"sk-text-repr-fallback\"><pre>GridSearchCV(cv=KFold(n_splits=5, random_state=None, shuffle=True),\n",
       "             estimator=RandomForestClassifier(),\n",
       "             param_grid={&#x27;max_depth&#x27;: [5, 10, 15],\n",
       "                         &#x27;n_estimators&#x27;: [10, 20, 30]},\n",
       "             scoring=&#x27;accuracy&#x27;)</pre><b>In a Jupyter environment, please rerun this cell to show the HTML representation or trust the notebook. <br />On GitHub, the HTML representation is unable to render, please try loading this page with nbviewer.org.</b></div><div class=\"sk-container\" hidden><div class=\"sk-item sk-dashed-wrapped\"><div class=\"sk-label-container\"><div class=\"sk-label sk-toggleable\"><input class=\"sk-toggleable__control sk-hidden--visually\" id=\"sk-estimator-id-1\" type=\"checkbox\" ><label for=\"sk-estimator-id-1\" class=\"sk-toggleable__label sk-toggleable__label-arrow\">GridSearchCV</label><div class=\"sk-toggleable__content\"><pre>GridSearchCV(cv=KFold(n_splits=5, random_state=None, shuffle=True),\n",
       "             estimator=RandomForestClassifier(),\n",
       "             param_grid={&#x27;max_depth&#x27;: [5, 10, 15],\n",
       "                         &#x27;n_estimators&#x27;: [10, 20, 30]},\n",
       "             scoring=&#x27;accuracy&#x27;)</pre></div></div></div><div class=\"sk-parallel\"><div class=\"sk-parallel-item\"><div class=\"sk-item\"><div class=\"sk-label-container\"><div class=\"sk-label sk-toggleable\"><input class=\"sk-toggleable__control sk-hidden--visually\" id=\"sk-estimator-id-2\" type=\"checkbox\" ><label for=\"sk-estimator-id-2\" class=\"sk-toggleable__label sk-toggleable__label-arrow\">estimator: RandomForestClassifier</label><div class=\"sk-toggleable__content\"><pre>RandomForestClassifier()</pre></div></div></div><div class=\"sk-serial\"><div class=\"sk-item\"><div class=\"sk-estimator sk-toggleable\"><input class=\"sk-toggleable__control sk-hidden--visually\" id=\"sk-estimator-id-3\" type=\"checkbox\" ><label for=\"sk-estimator-id-3\" class=\"sk-toggleable__label sk-toggleable__label-arrow\">RandomForestClassifier</label><div class=\"sk-toggleable__content\"><pre>RandomForestClassifier()</pre></div></div></div></div></div></div></div></div></div></div>"
      ],
      "text/plain": [
       "GridSearchCV(cv=KFold(n_splits=5, random_state=None, shuffle=True),\n",
       "             estimator=RandomForestClassifier(),\n",
       "             param_grid={'max_depth': [5, 10, 15],\n",
       "                         'n_estimators': [10, 20, 30]},\n",
       "             scoring='accuracy')"
      ]
     },
     "execution_count": 9,
     "metadata": {},
     "output_type": "execute_result"
    }
   ],
   "source": [
    "from sklearn.ensemble import RandomForestClassifier\n",
    "from sklearn.model_selection import GridSearchCV\n",
    "from sklearn.model_selection import KFold\n",
    "cv = KFold(5, shuffle=True)\n",
    "param_grid = {'max_depth': [5, 10, 15], 'n_estimators': [10, 20, 30]}\n",
    "model_rfc_2 = RandomForestClassifier()\n",
    "grid_search = GridSearchCV(model_rfc_2, param_grid, cv=cv, scoring='accuracy')\n",
    "grid_search.fit(X, y)"
   ]
  },
  {
   "cell_type": "markdown",
   "id": "ecba7096-f758-4af3-95bb-28e7861f4597",
   "metadata": {},
   "source": [
    "上面的代码为 max_depth 准备了 3 个值，为 n_estimators 也准备了 3 个值，对二者所有\n",
    "的组合，即 3×3 = 9 种情况进行了评估。下面输出所得到的最好的得分及相应的超参数值。"
   ]
  },
  {
   "cell_type": "code",
   "execution_count": null,
   "id": "968e92f3-8a71-4785-8004-77e7a9e2ce8c",
   "metadata": {},
   "outputs": [],
   "source": [
    "print(grid_search.best_score_)\n",
    "print(grid_search.best_params_)"
   ]
  },
  {
   "cell_type": "markdown",
   "id": "d366a351-65dd-48b9-94dd-c7620801c3c1",
   "metadata": {},
   "source": [
    "除了交叉验证外，GridSearchCV 还支持使用 F 值进行评估。修改 GridSearchCV 的评估\n",
    "方法很简单，将 scoring 参数指定为 f1 即可。"
   ]
  },
  {
   "cell_type": "code",
   "execution_count": null,
   "id": "a9025464-d1db-4d54-91f6-a0652ac91e66",
   "metadata": {},
   "outputs": [],
   "source": [
    "grid_search = GridSearchCV(model_rfc_2, param_grid, cv=cv, scoring='f1')"
   ]
  },
  {
   "cell_type": "markdown",
   "id": "abc795fc-7342-4a32-97eb-6c1617d370b1",
   "metadata": {},
   "source": [
    "#### 专栏 防止过拟合的各种方法\n",
    "前面介绍了通过调整超参数等来防止过拟合的方法。除此之外，还有其他一些方法可以防止过拟合。\n",
    "下面列出防止过拟合的主要方法的名称。在应对过拟合时，也可以考虑这些方法。\n",
    "- 增加训练数据\n",
    "- 减少特征值\n",
    "- 正则化\n",
    "- Early Stopping\n",
    "- 集成学习"
   ]
  },
  {
   "cell_type": "markdown",
   "id": "a4d869b0-bf07-4e18-b2ea-5e8ef5ec0da1",
   "metadata": {},
   "source": [
    "## 文本数据的转换处理\n",
    "本书之前涉及的机器学习模型的输入都是元素为数值的表格形式的数据。然而，在自然语言处\n",
    "理领域，我们需要处理不能直接作为输入的文本数据。\n",
    "本节将介绍两种将文本数据转换为表格数据的方法：一种是基于单词出现次 数的转换；另一种\n",
    "是基于 tf-idf 的转换（图 4-8）。然后，我们将对转换后的表格形式的数据应用机器学习模型，并比\n",
    "较它们的结果。\n",
    "\n",
    "![](./image/image4-8.png)"
   ]
  },
  {
   "cell_type": "markdown",
   "id": "ed27668a-3d78-4d0a-86b2-d1cf4a115be3",
   "metadata": {},
   "source": [
    "### 基于单词出现次数的转换\n",
    "下面介绍基于单词出现次数的转换方法。这是一种通过统计文本中的单词出现次数将文本数据\n",
    "转化为表格形式的数据的方法。\n",
    "我们看一下对下列文本数据进行转换的例子。\n",
    "“This is my car”\n",
    "“This is my friend”\n",
    "“This is my English book”\n",
    "表 4-3 统计了每个文本中各个单词出现的次数。表中的行是文本，列是每个文本中各个单词出\n",
    "现的次数。如果单词在文本中没有出现，则相应单元格的值为 0。通过这个例子，我们就能理解文\n",
    "本数据是如何转换为表格形式的数据的。\n",
    "\n",
    "![](./image/table4-3.png)\n",
    "\n",
    "通过分析单词出现的次数，我们可以描述出文本的特点。仔细观察各个单词，可以发现每个文\n",
    "本中都会出现一些常见的单词，也有一些文本特有的单词。比如 This 这个单词是每个文本中都会出\n",
    "现的常见词，但 car 只在文本 1 中出现，所以可以说它是描述文本的一个重要的单词。\n",
    "只考虑单词出现次数的做法无须考虑这些单词的重要度，对所有单词都平等地进行计数。下面\n",
    "将介绍 tf-idf 方法是如何考虑并表示单词的重要度的。\n",
    "### 基于 tf-idf 的转换\n",
    "tf-idf 是一种基于 tf（term frequency，词频）和 idf（inverse document frequency，逆文本频率指\n",
    "数）这两个指标来表示单词在文本中的重要度的方法。\n",
    "tf 是单词在文本中出现的频率，idf 是一个包含该单词的文本越多，值就越小的值。换言之，像\n",
    "This 这种出现在许多文本中的单词的 idf 就很小。这两个指标相乘得到的结果叫作 tf-idf。表 4-4 是\n",
    "对刚才的文本数据计算的 tf-idf 的结果。\n",
    "\n",
    "![](./image/table4-4.png)\n",
    "\n",
    "This 和 my 等单词在每个文本中都出现了，所以它们的 tf-idf 值较小，而 car 和 friend 等只在特\n",
    "定文本中出现的单词的 tf-idf 值则较大。行业术语和专有名词等只在特定文本中出现的词，往往具\n",
    "有较大的 tf-idf 值，有时能够很好地表示包含这些单词的文本。\n",
    "### 应用于机器学习模型\n",
    "下面基于单词出现次数和 tf-idf 将文本数据转换为表格形式的数据，并应用于机器学习模型。\n",
    "scikit-learn 的 CountVectorizer 可以计算单词出现次数，TfidfVectorizer 可以进行 tf-idf 的转\n",
    "换。另外，通过 fetch_20newsgroups 获取使用的文本数据，机器学习模型则采用 LinearSVC。\n"
   ]
  },
  {
   "cell_type": "code",
   "execution_count": null,
   "id": "b796203c-dd65-44c8-96d0-14784fadb547",
   "metadata": {},
   "outputs": [],
   "source": [
    "import numpy as np\n",
    "from sklearn.feature_extraction.text import CountVectorizer、TfidfVectorizer\n",
    "from sklearn.svm import LinearSVC\n",
    "from sklearn.datasets import fetch_20newsgroups\n",
    "categories = ['misc.forsale', 'rec.autos','comp.graphics', 'sci.med']\n",
    "remove = ('headers', 'footers', 'quotes')\n",
    "twenty_train = fetch_20newsgroups(subset='train',\n",
    "remove=remove,\n",
    "categories=categories)\n",
    "twenty_test = fetch_20newsgroups(subset='test',\n",
    "remove=remove,\n",
    "categories=categories)\n",
    "# 训练数据\n",
    "# 验证数据"
   ]
  },
  {
   "cell_type": "markdown",
   "id": "946fb236-0c37-406f-853d-9bca4201cf0c",
   "metadata": {},
   "source": [
    "这里使用的是前面出现过的 20 Newsgroups 数据集，代码通过 categories 变量明确指定了 4\n",
    "个主题的数据。\n",
    "首先将文本数据转换为单词出现次数，然后使用 LinearSVC 学习和预测。得到的模型对验证\n",
    "数据的正确率约为 0.794。也就是说，我们成功地将文本数据转换为了表格形式的数据，并进行了\n",
    "有监督学习。"
   ]
  },
  {
   "cell_type": "code",
   "execution_count": null,
   "id": "9f4377f4-83da-4692-8ec5-33349d00d57e",
   "metadata": {},
   "outputs": [],
   "source": [
    "count_vect = CountVectorizer()\n",
    "# 单词出现次数\n",
    "X_train_counts = count_vect.fit_transform(twenty_train.data)\n",
    "X_test_count = count_vect.transform(twenty_test.data)\n",
    "model = LinearSVC()\n",
    "model.fit(X_train_counts, twenty_train.target)\n",
    "predicted = model.predict(X_test_count)\n",
    "np.mean(predicted == twenty_test.target)"
   ]
  },
  {
   "cell_type": "markdown",
   "id": "28bc7b81-8707-42e9-b37a-a4257236aeaf",
   "metadata": {},
   "source": [
    "接下来使用 tf-idf 进行转换，然后以同样的方式进行训练和预测。此时得到的模型的正确率约\n",
    "为 0.87，比基于单词出现次数进行转换的方法的正确率高。通过 tf-idf，看起来我们很好地抓住了\n",
    "文本数据的特点。"
   ]
  },
  {
   "cell_type": "code",
   "execution_count": null,
   "id": "08061628-b726-4c70-a017-ccf631466466",
   "metadata": {},
   "outputs": [],
   "source": [
    "tf_vec = TfidfVectorizer()\n",
    "# tf-idf\n",
    "X_train_tfidf = tf_vec.fit_transform(twenty_train.data)\n",
    "X_test_tfidf = tf_vec.transform(twenty_test.data)\n",
    "model = LinearSVC()\n",
    "model.fit(X_train_tfidf, twenty_train.target)\n",
    "predicted = model.predict(X_test_tfidf)\n",
    "np.mean(predicted == twenty_test.target)"
   ]
  },
  {
   "cell_type": "markdown",
   "id": "b31343ef-a28c-4e1f-9ab9-1b105a27dfc5",
   "metadata": {},
   "source": [
    "## 图像数据的转换处理\n",
    "本节将介绍如何处理才能将图像数据作为机器学习的输入数据。这里以灰度图像数据为例进行\n",
    "说明（图 4-9）\n",
    "。灰度图像指的是图像中的每个像素只表示亮度的图像。大家可以思考一下，要想把\n",
    "这样的图像数据作为输入数据，需要进行什么处理呢？\n",
    "\n",
    "![](./image/image4-9.png)\n",
    "\n"
   ]
  },
  {
   "cell_type": "markdown",
   "id": "db090fc2-8f18-4909-85c1-de0f41c33d76",
   "metadata": {},
   "source": [
    "### 直接将像素信息作为数值使用\n",
    "一种方法是直接将各像素的信息作为数值使用。表 4-5 是将图像数据转换为向量数据的例子。\n",
    "如果是简单的图像识别问题，就可以使用这种简单的转换建立一个具有一定精度的模型。\n",
    "\n",
    "![](./image/table4-5.png)\n",
    "\n",
    "虽然通过这种转换，可以创建机器学习模型的输入数据，但由于具有二维关系的像素数据被\n",
    "转换为了一维向量，所以可以说重要的信息被丢弃了。有些模型会在保留图像的二维关系的前提下\n",
    "直接将其作为输入数据进行处理，比如在图像识别中常用的深度学习使用的就是像素的近邻像素的\n",
    "信息。\n",
    "下面是将图像数据转换为向量数据的示例代码。代码中使用第三方 Python 包 Pillow 将图像\n",
    "（png）数据转换为了向量数据。"
   ]
  },
  {
   "cell_type": "code",
   "execution_count": null,
   "id": "b9b7253a-942a-4c12-8b23-ea563b764691",
   "metadata": {},
   "outputs": [],
   "source": [
    "from PIL import Image\n",
    "import numpy as np\n",
    "img = Image.open('mlzukan-img.png').convert('L')\n",
    "width, height = img.size\n",
    "img_pixels = []\n",
    "for y in range(height):\n",
    "    for x in range(width):\n",
    "# 通过getpixel获取指定位置的像素值\n",
    "        img_pixels.append(img.getpixel((x,y)))\n",
    "    print(img_pixels)"
   ]
  },
  {
   "cell_type": "markdown",
   "id": "09227522-3212-4796-8b65-effd2175fbe4",
   "metadata": {},
   "source": [
    "### 将转换后的向量数据作为输入来应用机器学习模型\n",
    "前面介绍了如何将图像数据转换为向量数据，接下来我们尝试实际使用转换后的数据来创建机\n",
    "器学习模型。这里我们使用灰度手写数字数据建立一个模型，用于预测从 0 到 9 的 10 个数字。\n",
    "由于 scikit-learn 的 datasets 模块能够获取转换后的向量数据，所以我们使用它来获取输入\n",
    "数据。\n",
    "从预测结果来看，使用了向量数据的模型成功地进行了高精度的预测。\n",
    "\n"
   ]
  },
  {
   "cell_type": "code",
   "execution_count": 13,
   "id": "36c817b7-4d21-4fa1-bacc-ba8ae54041a2",
   "metadata": {},
   "outputs": [
    {
     "name": "stdout",
     "output_type": "stream",
     "text": [
      "              precision    recall  f1-score   support\n",
      "\n",
      "           0       0.97      0.99      0.98        88\n",
      "           1       0.95      0.90      0.93        91\n",
      "           2       0.99      0.91      0.95        86\n",
      "           3       0.92      0.86      0.89        91\n",
      "           4       0.97      0.91      0.94        92\n",
      "           5       0.88      0.92      0.90        91\n",
      "           6       0.97      0.99      0.98        91\n",
      "           7       0.95      0.98      0.96        89\n",
      "           8       0.92      0.90      0.91        88\n",
      "           9       0.83      0.96      0.89        92\n",
      "\n",
      "    accuracy                           0.93       899\n",
      "   macro avg       0.93      0.93      0.93       899\n",
      "weighted avg       0.93      0.93      0.93       899\n",
      "\n"
     ]
    }
   ],
   "source": [
    "from sklearn import datasets\n",
    "from sklearn import metrics\n",
    "from sklearn.ensemble import RandomForestClassifier\n",
    "digits = datasets.load_digits()\n",
    "n_samples = len(digits.images)\n",
    "data = digits.images.reshape((n_samples, -1))\n",
    "model = RandomForestClassifier()\n",
    "model.fit(data[:n_samples // 2], digits.target[:n_samples // 2])\n",
    "expected = digits.target[n_samples // 2:]\n",
    "predicted = model.predict(data[n_samples // 2:])\n",
    "print(metrics.classification_report(expected, predicted))"
   ]
  }
 ],
 "metadata": {
  "kernelspec": {
   "display_name": "Python 3 (ipykernel)",
   "language": "python",
   "name": "python3"
  },
  "language_info": {
   "codemirror_mode": {
    "name": "ipython",
    "version": 3
   },
   "file_extension": ".py",
   "mimetype": "text/x-python",
   "name": "python",
   "nbconvert_exporter": "python",
   "pygments_lexer": "ipython3",
   "version": "3.11.7"
  }
 },
 "nbformat": 4,
 "nbformat_minor": 5
}
